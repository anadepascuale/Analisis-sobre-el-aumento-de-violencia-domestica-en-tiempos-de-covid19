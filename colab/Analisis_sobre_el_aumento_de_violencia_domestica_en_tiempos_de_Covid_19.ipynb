{
  "cells": [
    {
      "cell_type": "markdown",
      "metadata": {
        "id": "65d-eBrtpIMT"
      },
      "source": [
        "# **Análisis sobre el aumento de violencia doméstica en tiempos de covid19**\n",
        "\n",
        "\n"
      ]
    },
    {
      "cell_type": "markdown",
      "metadata": {
        "id": "GBNDNjzvptNL"
      },
      "source": [
        "El presente proyecto busca explorar los efectos producidos por la pandemia COVID-19, en materia de violencia  intrafamilar en Argentina, todo esto enmarcado en los periodos de aislamiento a partir del año 2020.\n",
        "\n",
        "Debido a la poca información sobre pandemias, el proceso de contención de la misma fue experimental en cuanto a medidas que se iban implementando según la nueva información que se iba obteniendo, por lo que no se podían predecir las consecuencias a mediano y largo plazo de estas; por ejemplo la restricción de salida y el aislamiento en el domicilio, hecho que produjo consecuencias en el ámbito familiar argentino, específicamente en temas de violencia intrafamiliar. \n",
        "En base a lo anterior, el presente trabajo busca indagar si existe una relación entre las denuncias y crímenes en torno a violencia intrafamiliar y el aislamiento social.  \n",
        "\n",
        "La idea principal es correlacionar las bases de datos y poder encontrar una relación entre las variables, para poder responder a la pregunta ¿Existe un aumento de la violencia doméstica a causa del encierro por pandemia?\n"
      ]
    },
    {
      "cell_type": "markdown",
      "metadata": {
        "id": "1TyNPa5wpwwD"
      },
      "source": [
        "\" Las bases de datos las obtubimos de https://www.kaggle.com y https://www.datos.gob.ar \"\t\n"
      ]
    },
    {
      "cell_type": "markdown",
      "metadata": {
        "id": "n7G0wn_lp17D"
      },
      "source": [
        "### **Objetivos**:\n",
        "\n",
        "-Explorar la tendencia de la violencia intrafamiliar  en Argentina durante el aislamiento por Covid-19                              \n",
        "-Correlacionar la tendencia de la violencia intrafamiliar en Argentina con las medidas de contención sanitaria por Covid-19"
      ]
    },
    {
      "cell_type": "markdown",
      "metadata": {
        "id": "t1wuuCqRsggL"
      },
      "source": [
        "## Importación de librerías\n"
      ]
    },
    {
      "cell_type": "code",
      "execution_count": null,
      "metadata": {
        "id": "MfWXrsKNsh5z"
      },
      "outputs": [],
      "source": [
        "import numpy as np\n",
        "import pandas as pd\n",
        "import matplotlib.pyplot as plt\n",
        "import seaborn as sns\n",
        "import io"
      ]
    },
    {
      "cell_type": "markdown",
      "metadata": {
        "id": "KbltfZu-skki"
      },
      "source": [
        "\n",
        "## Lectura de los dataset\n"
      ]
    },
    {
      "cell_type": "code",
      "execution_count": null,
      "metadata": {
        "id": "VQh1bxbr3-Mh",
        "colab": {
          "base_uri": "https://localhost:8080/"
        },
        "outputId": "a6c7ed36-a017-401e-aa58-d7cdd4a76c25"
      },
      "outputs": [
        {
          "output_type": "stream",
          "name": "stdout",
          "text": [
            "Drive already mounted at /content/gdrive; to attempt to forcibly remount, call drive.mount(\"/content/gdrive\", force_remount=True).\n",
            "/content/gdrive/My Drive/USAMOS ESTOS\n"
          ]
        }
      ],
      "source": [
        "from google.colab import drive\n",
        "from google.colab import files\n",
        "\n",
        "drive.mount('/content/gdrive')\n",
        "%cd '/content/gdrive/My Drive/USAMOS ESTOS'\n",
        "#file = files.upload()"
      ]
    },
    {
      "cell_type": "code",
      "execution_count": null,
      "metadata": {
        "id": "jawk5-DVUdHv",
        "colab": {
          "base_uri": "https://localhost:8080/"
        },
        "outputId": "3c19ddeb-b562-4841-a0db-f8491980a1e7"
      },
      "outputs": [
        {
          "output_type": "stream",
          "name": "stdout",
          "text": [
            "'Data COVID Casos Argentina completo 2020 y 2021.xlsx'\n",
            " llamados-atendidos-violencia-familiar-unificado-201701-202202.xlsx\n"
          ]
        }
      ],
      "source": [
        "!ls"
      ]
    },
    {
      "cell_type": "markdown",
      "metadata": {
        "id": "751Dg8JjTT_d"
      },
      "source": [
        "## Primeros pasos"
      ]
    },
    {
      "cell_type": "code",
      "execution_count": null,
      "metadata": {
        "id": "9velDHMu5X-H"
      },
      "outputs": [],
      "source": [
        "#tipos de datos de cada columna para que pandas pueda interpretarlo bien\n",
        "dtypes = {\"caso_id\" : float,\n",
        "          \"llamante_descripcion\" : str,\n",
        "          \"llamante_genero\" : str,\n",
        "          \"llamante_vinculo_ninios_presentes\" : str,\n",
        "          \"violencia_tipo\" : str,\n",
        "          \"victima_edad\" : float,\n",
        "          \"victima_rango_etario\" : str,\n",
        "          \"victima_genero\" : str,\n",
        "          \"victima_cantidad\" : float,\n",
        "          \"agresor_cantidad\" : float,\n",
        "          \"agresor_genero\" : str,\n",
        "          \"agresor_relacion_victima\" : str,\n",
        "          \"llamado_derivacion\" : str,\n",
        "          \"llamado_fecha\" : str,\n",
        "          \"llamado_hora\" : str,\n",
        "          }\n",
        "\n",
        "#columnas que extraemos del archivo sobre covid\n",
        "cols_covid = [\"fecha\",\"dia_cuarentena_dnu260\"]\n",
        "\n",
        "#cargamos los excel a dataframes\n",
        "ATENDIDOS = pd.read_excel(\"llamados-atendidos-violencia-familiar-unificado-201701-202202.xlsx\", \n",
        "                          dtype=dtypes, na_values=[\"Sin dato\"])\n",
        "COVID = pd.read_excel(\"Data COVID Casos Argentina completo 2020 y 2021.xlsx\",\n",
        "                      usecols=cols_covid, dtype={\"dia_cuarentena_dnu260\" : float})\n",
        "\n",
        "#completamos los datos vacios\n",
        "ATENDIDOS = ATENDIDOS.fillna(\"Sin dato\")\n",
        "COVID = COVID.fillna(0)\n",
        "\n",
        "#pasamos de string a datetime para manipularlo mejor\n",
        "ATENDIDOS[\"fecha\"] =  pd.to_datetime(ATENDIDOS['llamado_fecha'] + ' ' + ATENDIDOS['llamado_hora'])\n",
        "COVID[\"fecha\"] = pd.to_datetime(COVID[\"fecha\"])"
      ]
    },
    {
      "cell_type": "markdown",
      "metadata": {
        "id": "w0VFpQ97DsPg"
      },
      "source": [
        "# Exploramos el dataset de llamados por violencia familiar"
      ]
    },
    {
      "cell_type": "code",
      "source": [
        "#revisamos los tipos de datos que tiene el dataset\n",
        "ATENDIDOS.dtypes"
      ],
      "metadata": {
        "colab": {
          "base_uri": "https://localhost:8080/"
        },
        "id": "3tdBg_BybWV-",
        "outputId": "0b50ed3d-4d41-41c4-e3d7-403e9991d931"
      },
      "execution_count": null,
      "outputs": [
        {
          "output_type": "execute_result",
          "data": {
            "text/plain": [
              "caso_id                                     float64\n",
              "llamante_descripcion                         object\n",
              "llamante_genero                              object\n",
              "llamante_vinculo_ninios_presentes            object\n",
              "violencia_tipo                               object\n",
              "victima_edad                                 object\n",
              "victima_rango_etario                         object\n",
              "victima_genero                               object\n",
              "victima_cantidad                            float64\n",
              "agresor_cantidad                            float64\n",
              "agresor_genero                               object\n",
              "agresor_relacion_victima                     object\n",
              "llamado_derivacion                           object\n",
              "llamado_fecha                                object\n",
              "llamado_hora                                 object\n",
              "llamado_provincia                            object\n",
              "llamado_provincia_id                         object\n",
              "fecha                                datetime64[ns]\n",
              "dtype: object"
            ]
          },
          "metadata": {},
          "execution_count": 252
        }
      ]
    },
    {
      "cell_type": "code",
      "execution_count": null,
      "metadata": {
        "id": "k6-Vu9bawA5y",
        "colab": {
          "base_uri": "https://localhost:8080/",
          "height": 444
        },
        "outputId": "5885847e-f3f6-4a20-ecf8-2ca2f119d748"
      },
      "outputs": [
        {
          "output_type": "execute_result",
          "data": {
            "text/plain": [
              "    caso_id llamante_descripcion llamante_genero  \\\n",
              "0  344552.0            Comisaría       Masculino   \n",
              "1  344553.0            Comisaría        Femenino   \n",
              "2  344554.0              Víctima        Femenino   \n",
              "3  344555.0              Víctima        Femenino   \n",
              "4  344556.0            Comisaría       Masculino   \n",
              "\n",
              "  llamante_vinculo_ninios_presentes        violencia_tipo victima_edad  \\\n",
              "0                Otra/o no familiar  Física y psicológica         27.0   \n",
              "1                         Sin datos  Física y psicológica     Sin dato   \n",
              "2                             Madre  Física y psicológica     Sin dato   \n",
              "3                   No hay niñas/os  Física y psicológica     Sin dato   \n",
              "4                Otra/o no familiar           Psicológica     Sin dato   \n",
              "\n",
              "  victima_rango_etario victima_genero  victima_cantidad  agresor_cantidad  \\\n",
              "0         18 a 29 años       Femenino               3.0               1.0   \n",
              "1             Sin dato       Femenino               2.0               1.0   \n",
              "2             Sin dato       Femenino               1.0               1.0   \n",
              "3             Sin dato       Femenino               1.0               1.0   \n",
              "4             Sin dato      Masculino               1.0               1.0   \n",
              "\n",
              "  agresor_genero agresor_relacion_victima  \\\n",
              "0      Masculino                   Pareja   \n",
              "1      Masculino                Hermano/a   \n",
              "2      Masculino                   Pareja   \n",
              "3      Masculino                   Pareja   \n",
              "4       Femenino                    Madre   \n",
              "\n",
              "                                  llamado_derivacion        llamado_fecha  \\\n",
              "0  La víctima no aceptó la intervención del Equip...  2017-01-01 00:00:00   \n",
              "1      Llamante solicitó información y/o orientación  2017-01-01 00:00:00   \n",
              "2      Llamante solicitó información y/o orientación  2017-01-01 00:00:00   \n",
              "3      Llamante solicitó información y/o orientación  2017-01-01 00:00:00   \n",
              "4      Llamante solicitó información y/o orientación  2017-01-01 00:00:00   \n",
              "\n",
              "  llamado_hora llamado_provincia llamado_provincia_id               fecha  \n",
              "0     01:37:00          Sin dato             Sin dato 2017-01-01 01:37:00  \n",
              "1     06:42:00          Sin dato             Sin dato 2017-01-01 06:42:00  \n",
              "2     06:48:00          Sin dato             Sin dato 2017-01-01 06:48:00  \n",
              "3     06:54:00          Sin dato             Sin dato 2017-01-01 06:54:00  \n",
              "4     07:11:00          Sin dato             Sin dato 2017-01-01 07:11:00  "
            ],
            "text/html": [
              "\n",
              "  <div id=\"df-b0417f6d-27e6-4e32-90c4-ad8f98cb6291\">\n",
              "    <div class=\"colab-df-container\">\n",
              "      <div>\n",
              "<style scoped>\n",
              "    .dataframe tbody tr th:only-of-type {\n",
              "        vertical-align: middle;\n",
              "    }\n",
              "\n",
              "    .dataframe tbody tr th {\n",
              "        vertical-align: top;\n",
              "    }\n",
              "\n",
              "    .dataframe thead th {\n",
              "        text-align: right;\n",
              "    }\n",
              "</style>\n",
              "<table border=\"1\" class=\"dataframe\">\n",
              "  <thead>\n",
              "    <tr style=\"text-align: right;\">\n",
              "      <th></th>\n",
              "      <th>caso_id</th>\n",
              "      <th>llamante_descripcion</th>\n",
              "      <th>llamante_genero</th>\n",
              "      <th>llamante_vinculo_ninios_presentes</th>\n",
              "      <th>violencia_tipo</th>\n",
              "      <th>victima_edad</th>\n",
              "      <th>victima_rango_etario</th>\n",
              "      <th>victima_genero</th>\n",
              "      <th>victima_cantidad</th>\n",
              "      <th>agresor_cantidad</th>\n",
              "      <th>agresor_genero</th>\n",
              "      <th>agresor_relacion_victima</th>\n",
              "      <th>llamado_derivacion</th>\n",
              "      <th>llamado_fecha</th>\n",
              "      <th>llamado_hora</th>\n",
              "      <th>llamado_provincia</th>\n",
              "      <th>llamado_provincia_id</th>\n",
              "      <th>fecha</th>\n",
              "    </tr>\n",
              "  </thead>\n",
              "  <tbody>\n",
              "    <tr>\n",
              "      <th>0</th>\n",
              "      <td>344552.0</td>\n",
              "      <td>Comisaría</td>\n",
              "      <td>Masculino</td>\n",
              "      <td>Otra/o no familiar</td>\n",
              "      <td>Física y psicológica</td>\n",
              "      <td>27.0</td>\n",
              "      <td>18 a 29 años</td>\n",
              "      <td>Femenino</td>\n",
              "      <td>3.0</td>\n",
              "      <td>1.0</td>\n",
              "      <td>Masculino</td>\n",
              "      <td>Pareja</td>\n",
              "      <td>La víctima no aceptó la intervención del Equip...</td>\n",
              "      <td>2017-01-01 00:00:00</td>\n",
              "      <td>01:37:00</td>\n",
              "      <td>Sin dato</td>\n",
              "      <td>Sin dato</td>\n",
              "      <td>2017-01-01 01:37:00</td>\n",
              "    </tr>\n",
              "    <tr>\n",
              "      <th>1</th>\n",
              "      <td>344553.0</td>\n",
              "      <td>Comisaría</td>\n",
              "      <td>Femenino</td>\n",
              "      <td>Sin datos</td>\n",
              "      <td>Física y psicológica</td>\n",
              "      <td>Sin dato</td>\n",
              "      <td>Sin dato</td>\n",
              "      <td>Femenino</td>\n",
              "      <td>2.0</td>\n",
              "      <td>1.0</td>\n",
              "      <td>Masculino</td>\n",
              "      <td>Hermano/a</td>\n",
              "      <td>Llamante solicitó información y/o orientación</td>\n",
              "      <td>2017-01-01 00:00:00</td>\n",
              "      <td>06:42:00</td>\n",
              "      <td>Sin dato</td>\n",
              "      <td>Sin dato</td>\n",
              "      <td>2017-01-01 06:42:00</td>\n",
              "    </tr>\n",
              "    <tr>\n",
              "      <th>2</th>\n",
              "      <td>344554.0</td>\n",
              "      <td>Víctima</td>\n",
              "      <td>Femenino</td>\n",
              "      <td>Madre</td>\n",
              "      <td>Física y psicológica</td>\n",
              "      <td>Sin dato</td>\n",
              "      <td>Sin dato</td>\n",
              "      <td>Femenino</td>\n",
              "      <td>1.0</td>\n",
              "      <td>1.0</td>\n",
              "      <td>Masculino</td>\n",
              "      <td>Pareja</td>\n",
              "      <td>Llamante solicitó información y/o orientación</td>\n",
              "      <td>2017-01-01 00:00:00</td>\n",
              "      <td>06:48:00</td>\n",
              "      <td>Sin dato</td>\n",
              "      <td>Sin dato</td>\n",
              "      <td>2017-01-01 06:48:00</td>\n",
              "    </tr>\n",
              "    <tr>\n",
              "      <th>3</th>\n",
              "      <td>344555.0</td>\n",
              "      <td>Víctima</td>\n",
              "      <td>Femenino</td>\n",
              "      <td>No hay niñas/os</td>\n",
              "      <td>Física y psicológica</td>\n",
              "      <td>Sin dato</td>\n",
              "      <td>Sin dato</td>\n",
              "      <td>Femenino</td>\n",
              "      <td>1.0</td>\n",
              "      <td>1.0</td>\n",
              "      <td>Masculino</td>\n",
              "      <td>Pareja</td>\n",
              "      <td>Llamante solicitó información y/o orientación</td>\n",
              "      <td>2017-01-01 00:00:00</td>\n",
              "      <td>06:54:00</td>\n",
              "      <td>Sin dato</td>\n",
              "      <td>Sin dato</td>\n",
              "      <td>2017-01-01 06:54:00</td>\n",
              "    </tr>\n",
              "    <tr>\n",
              "      <th>4</th>\n",
              "      <td>344556.0</td>\n",
              "      <td>Comisaría</td>\n",
              "      <td>Masculino</td>\n",
              "      <td>Otra/o no familiar</td>\n",
              "      <td>Psicológica</td>\n",
              "      <td>Sin dato</td>\n",
              "      <td>Sin dato</td>\n",
              "      <td>Masculino</td>\n",
              "      <td>1.0</td>\n",
              "      <td>1.0</td>\n",
              "      <td>Femenino</td>\n",
              "      <td>Madre</td>\n",
              "      <td>Llamante solicitó información y/o orientación</td>\n",
              "      <td>2017-01-01 00:00:00</td>\n",
              "      <td>07:11:00</td>\n",
              "      <td>Sin dato</td>\n",
              "      <td>Sin dato</td>\n",
              "      <td>2017-01-01 07:11:00</td>\n",
              "    </tr>\n",
              "  </tbody>\n",
              "</table>\n",
              "</div>\n",
              "      <button class=\"colab-df-convert\" onclick=\"convertToInteractive('df-b0417f6d-27e6-4e32-90c4-ad8f98cb6291')\"\n",
              "              title=\"Convert this dataframe to an interactive table.\"\n",
              "              style=\"display:none;\">\n",
              "        \n",
              "  <svg xmlns=\"http://www.w3.org/2000/svg\" height=\"24px\"viewBox=\"0 0 24 24\"\n",
              "       width=\"24px\">\n",
              "    <path d=\"M0 0h24v24H0V0z\" fill=\"none\"/>\n",
              "    <path d=\"M18.56 5.44l.94 2.06.94-2.06 2.06-.94-2.06-.94-.94-2.06-.94 2.06-2.06.94zm-11 1L8.5 8.5l.94-2.06 2.06-.94-2.06-.94L8.5 2.5l-.94 2.06-2.06.94zm10 10l.94 2.06.94-2.06 2.06-.94-2.06-.94-.94-2.06-.94 2.06-2.06.94z\"/><path d=\"M17.41 7.96l-1.37-1.37c-.4-.4-.92-.59-1.43-.59-.52 0-1.04.2-1.43.59L10.3 9.45l-7.72 7.72c-.78.78-.78 2.05 0 2.83L4 21.41c.39.39.9.59 1.41.59.51 0 1.02-.2 1.41-.59l7.78-7.78 2.81-2.81c.8-.78.8-2.07 0-2.86zM5.41 20L4 18.59l7.72-7.72 1.47 1.35L5.41 20z\"/>\n",
              "  </svg>\n",
              "      </button>\n",
              "      \n",
              "  <style>\n",
              "    .colab-df-container {\n",
              "      display:flex;\n",
              "      flex-wrap:wrap;\n",
              "      gap: 12px;\n",
              "    }\n",
              "\n",
              "    .colab-df-convert {\n",
              "      background-color: #E8F0FE;\n",
              "      border: none;\n",
              "      border-radius: 50%;\n",
              "      cursor: pointer;\n",
              "      display: none;\n",
              "      fill: #1967D2;\n",
              "      height: 32px;\n",
              "      padding: 0 0 0 0;\n",
              "      width: 32px;\n",
              "    }\n",
              "\n",
              "    .colab-df-convert:hover {\n",
              "      background-color: #E2EBFA;\n",
              "      box-shadow: 0px 1px 2px rgba(60, 64, 67, 0.3), 0px 1px 3px 1px rgba(60, 64, 67, 0.15);\n",
              "      fill: #174EA6;\n",
              "    }\n",
              "\n",
              "    [theme=dark] .colab-df-convert {\n",
              "      background-color: #3B4455;\n",
              "      fill: #D2E3FC;\n",
              "    }\n",
              "\n",
              "    [theme=dark] .colab-df-convert:hover {\n",
              "      background-color: #434B5C;\n",
              "      box-shadow: 0px 1px 3px 1px rgba(0, 0, 0, 0.15);\n",
              "      filter: drop-shadow(0px 1px 2px rgba(0, 0, 0, 0.3));\n",
              "      fill: #FFFFFF;\n",
              "    }\n",
              "  </style>\n",
              "\n",
              "      <script>\n",
              "        const buttonEl =\n",
              "          document.querySelector('#df-b0417f6d-27e6-4e32-90c4-ad8f98cb6291 button.colab-df-convert');\n",
              "        buttonEl.style.display =\n",
              "          google.colab.kernel.accessAllowed ? 'block' : 'none';\n",
              "\n",
              "        async function convertToInteractive(key) {\n",
              "          const element = document.querySelector('#df-b0417f6d-27e6-4e32-90c4-ad8f98cb6291');\n",
              "          const dataTable =\n",
              "            await google.colab.kernel.invokeFunction('convertToInteractive',\n",
              "                                                     [key], {});\n",
              "          if (!dataTable) return;\n",
              "\n",
              "          const docLinkHtml = 'Like what you see? Visit the ' +\n",
              "            '<a target=\"_blank\" href=https://colab.research.google.com/notebooks/data_table.ipynb>data table notebook</a>'\n",
              "            + ' to learn more about interactive tables.';\n",
              "          element.innerHTML = '';\n",
              "          dataTable['output_type'] = 'display_data';\n",
              "          await google.colab.output.renderOutput(dataTable, element);\n",
              "          const docLink = document.createElement('div');\n",
              "          docLink.innerHTML = docLinkHtml;\n",
              "          element.appendChild(docLink);\n",
              "        }\n",
              "      </script>\n",
              "    </div>\n",
              "  </div>\n",
              "  "
            ]
          },
          "metadata": {},
          "execution_count": 253
        }
      ],
      "source": [
        "ATENDIDOS.head()"
      ]
    },
    {
      "cell_type": "code",
      "execution_count": null,
      "metadata": {
        "id": "wOqgoleqXfi-",
        "colab": {
          "base_uri": "https://localhost:8080/"
        },
        "outputId": "faea311e-79a0-4fac-c334-5b4ce9c06c47"
      },
      "outputs": [
        {
          "output_type": "stream",
          "name": "stdout",
          "text": [
            "Cantidad de filas y columnas de ATENDIDOS: (45703, 18)\n"
          ]
        }
      ],
      "source": [
        "print('Cantidad de filas y columnas de ATENDIDOS:', ATENDIDOS.shape)"
      ]
    },
    {
      "cell_type": "code",
      "execution_count": null,
      "metadata": {
        "id": "V6XyzAupXjzu",
        "colab": {
          "base_uri": "https://localhost:8080/"
        },
        "outputId": "497cefe4-8d36-49aa-c3e9-3975d542bb0a"
      },
      "outputs": [
        {
          "output_type": "stream",
          "name": "stdout",
          "text": [
            "Nombre columnas de ATENDIDOS: Index(['caso_id', 'llamante_descripcion', 'llamante_genero',\n",
            "       'llamante_vinculo_ninios_presentes', 'violencia_tipo', 'victima_edad',\n",
            "       'victima_rango_etario', 'victima_genero', 'victima_cantidad',\n",
            "       'agresor_cantidad', 'agresor_genero', 'agresor_relacion_victima',\n",
            "       'llamado_derivacion', 'llamado_fecha', 'llamado_hora',\n",
            "       'llamado_provincia', 'llamado_provincia_id', 'fecha'],\n",
            "      dtype='object')\n"
          ]
        }
      ],
      "source": [
        "print('Nombre columnas de ATENDIDOS:', ATENDIDOS.columns)"
      ]
    },
    {
      "cell_type": "code",
      "execution_count": null,
      "metadata": {
        "id": "doAeLBWGv0Q6"
      },
      "outputs": [],
      "source": [
        "#eliminamos las columnas que creemos NO estarán relacionadas a nuestro target\n",
        "ATENDIDOS = ATENDIDOS.drop(['llamante_genero','victima_edad','agresor_cantidad',\n",
        "                            'llamado_provincia','llamado_provincia_id'], axis=1)"
      ]
    },
    {
      "cell_type": "code",
      "execution_count": null,
      "metadata": {
        "id": "CfjMD5nSarxC",
        "colab": {
          "base_uri": "https://localhost:8080/",
          "height": 444
        },
        "outputId": "4961d4e0-05d2-4902-9795-bb3281b5a64f"
      },
      "outputs": [
        {
          "output_type": "execute_result",
          "data": {
            "text/plain": [
              "    caso_id llamante_descripcion llamante_vinculo_ninios_presentes  \\\n",
              "0  344552.0            Comisaría                Otra/o no familiar   \n",
              "1  344553.0            Comisaría                         Sin datos   \n",
              "2  344554.0              Víctima                             Madre   \n",
              "3  344555.0              Víctima                   No hay niñas/os   \n",
              "4  344556.0            Comisaría                Otra/o no familiar   \n",
              "\n",
              "         violencia_tipo victima_rango_etario victima_genero  victima_cantidad  \\\n",
              "0  Física y psicológica         18 a 29 años       Femenino               3.0   \n",
              "1  Física y psicológica             Sin dato       Femenino               2.0   \n",
              "2  Física y psicológica             Sin dato       Femenino               1.0   \n",
              "3  Física y psicológica             Sin dato       Femenino               1.0   \n",
              "4           Psicológica             Sin dato      Masculino               1.0   \n",
              "\n",
              "  agresor_genero agresor_relacion_victima  \\\n",
              "0      Masculino                   Pareja   \n",
              "1      Masculino                Hermano/a   \n",
              "2      Masculino                   Pareja   \n",
              "3      Masculino                   Pareja   \n",
              "4       Femenino                    Madre   \n",
              "\n",
              "                                  llamado_derivacion        llamado_fecha  \\\n",
              "0  La víctima no aceptó la intervención del Equip...  2017-01-01 00:00:00   \n",
              "1      Llamante solicitó información y/o orientación  2017-01-01 00:00:00   \n",
              "2      Llamante solicitó información y/o orientación  2017-01-01 00:00:00   \n",
              "3      Llamante solicitó información y/o orientación  2017-01-01 00:00:00   \n",
              "4      Llamante solicitó información y/o orientación  2017-01-01 00:00:00   \n",
              "\n",
              "  llamado_hora               fecha  \n",
              "0     01:37:00 2017-01-01 01:37:00  \n",
              "1     06:42:00 2017-01-01 06:42:00  \n",
              "2     06:48:00 2017-01-01 06:48:00  \n",
              "3     06:54:00 2017-01-01 06:54:00  \n",
              "4     07:11:00 2017-01-01 07:11:00  "
            ],
            "text/html": [
              "\n",
              "  <div id=\"df-45a65734-4431-489e-85b6-6c5e1981c774\">\n",
              "    <div class=\"colab-df-container\">\n",
              "      <div>\n",
              "<style scoped>\n",
              "    .dataframe tbody tr th:only-of-type {\n",
              "        vertical-align: middle;\n",
              "    }\n",
              "\n",
              "    .dataframe tbody tr th {\n",
              "        vertical-align: top;\n",
              "    }\n",
              "\n",
              "    .dataframe thead th {\n",
              "        text-align: right;\n",
              "    }\n",
              "</style>\n",
              "<table border=\"1\" class=\"dataframe\">\n",
              "  <thead>\n",
              "    <tr style=\"text-align: right;\">\n",
              "      <th></th>\n",
              "      <th>caso_id</th>\n",
              "      <th>llamante_descripcion</th>\n",
              "      <th>llamante_vinculo_ninios_presentes</th>\n",
              "      <th>violencia_tipo</th>\n",
              "      <th>victima_rango_etario</th>\n",
              "      <th>victima_genero</th>\n",
              "      <th>victima_cantidad</th>\n",
              "      <th>agresor_genero</th>\n",
              "      <th>agresor_relacion_victima</th>\n",
              "      <th>llamado_derivacion</th>\n",
              "      <th>llamado_fecha</th>\n",
              "      <th>llamado_hora</th>\n",
              "      <th>fecha</th>\n",
              "    </tr>\n",
              "  </thead>\n",
              "  <tbody>\n",
              "    <tr>\n",
              "      <th>0</th>\n",
              "      <td>344552.0</td>\n",
              "      <td>Comisaría</td>\n",
              "      <td>Otra/o no familiar</td>\n",
              "      <td>Física y psicológica</td>\n",
              "      <td>18 a 29 años</td>\n",
              "      <td>Femenino</td>\n",
              "      <td>3.0</td>\n",
              "      <td>Masculino</td>\n",
              "      <td>Pareja</td>\n",
              "      <td>La víctima no aceptó la intervención del Equip...</td>\n",
              "      <td>2017-01-01 00:00:00</td>\n",
              "      <td>01:37:00</td>\n",
              "      <td>2017-01-01 01:37:00</td>\n",
              "    </tr>\n",
              "    <tr>\n",
              "      <th>1</th>\n",
              "      <td>344553.0</td>\n",
              "      <td>Comisaría</td>\n",
              "      <td>Sin datos</td>\n",
              "      <td>Física y psicológica</td>\n",
              "      <td>Sin dato</td>\n",
              "      <td>Femenino</td>\n",
              "      <td>2.0</td>\n",
              "      <td>Masculino</td>\n",
              "      <td>Hermano/a</td>\n",
              "      <td>Llamante solicitó información y/o orientación</td>\n",
              "      <td>2017-01-01 00:00:00</td>\n",
              "      <td>06:42:00</td>\n",
              "      <td>2017-01-01 06:42:00</td>\n",
              "    </tr>\n",
              "    <tr>\n",
              "      <th>2</th>\n",
              "      <td>344554.0</td>\n",
              "      <td>Víctima</td>\n",
              "      <td>Madre</td>\n",
              "      <td>Física y psicológica</td>\n",
              "      <td>Sin dato</td>\n",
              "      <td>Femenino</td>\n",
              "      <td>1.0</td>\n",
              "      <td>Masculino</td>\n",
              "      <td>Pareja</td>\n",
              "      <td>Llamante solicitó información y/o orientación</td>\n",
              "      <td>2017-01-01 00:00:00</td>\n",
              "      <td>06:48:00</td>\n",
              "      <td>2017-01-01 06:48:00</td>\n",
              "    </tr>\n",
              "    <tr>\n",
              "      <th>3</th>\n",
              "      <td>344555.0</td>\n",
              "      <td>Víctima</td>\n",
              "      <td>No hay niñas/os</td>\n",
              "      <td>Física y psicológica</td>\n",
              "      <td>Sin dato</td>\n",
              "      <td>Femenino</td>\n",
              "      <td>1.0</td>\n",
              "      <td>Masculino</td>\n",
              "      <td>Pareja</td>\n",
              "      <td>Llamante solicitó información y/o orientación</td>\n",
              "      <td>2017-01-01 00:00:00</td>\n",
              "      <td>06:54:00</td>\n",
              "      <td>2017-01-01 06:54:00</td>\n",
              "    </tr>\n",
              "    <tr>\n",
              "      <th>4</th>\n",
              "      <td>344556.0</td>\n",
              "      <td>Comisaría</td>\n",
              "      <td>Otra/o no familiar</td>\n",
              "      <td>Psicológica</td>\n",
              "      <td>Sin dato</td>\n",
              "      <td>Masculino</td>\n",
              "      <td>1.0</td>\n",
              "      <td>Femenino</td>\n",
              "      <td>Madre</td>\n",
              "      <td>Llamante solicitó información y/o orientación</td>\n",
              "      <td>2017-01-01 00:00:00</td>\n",
              "      <td>07:11:00</td>\n",
              "      <td>2017-01-01 07:11:00</td>\n",
              "    </tr>\n",
              "  </tbody>\n",
              "</table>\n",
              "</div>\n",
              "      <button class=\"colab-df-convert\" onclick=\"convertToInteractive('df-45a65734-4431-489e-85b6-6c5e1981c774')\"\n",
              "              title=\"Convert this dataframe to an interactive table.\"\n",
              "              style=\"display:none;\">\n",
              "        \n",
              "  <svg xmlns=\"http://www.w3.org/2000/svg\" height=\"24px\"viewBox=\"0 0 24 24\"\n",
              "       width=\"24px\">\n",
              "    <path d=\"M0 0h24v24H0V0z\" fill=\"none\"/>\n",
              "    <path d=\"M18.56 5.44l.94 2.06.94-2.06 2.06-.94-2.06-.94-.94-2.06-.94 2.06-2.06.94zm-11 1L8.5 8.5l.94-2.06 2.06-.94-2.06-.94L8.5 2.5l-.94 2.06-2.06.94zm10 10l.94 2.06.94-2.06 2.06-.94-2.06-.94-.94-2.06-.94 2.06-2.06.94z\"/><path d=\"M17.41 7.96l-1.37-1.37c-.4-.4-.92-.59-1.43-.59-.52 0-1.04.2-1.43.59L10.3 9.45l-7.72 7.72c-.78.78-.78 2.05 0 2.83L4 21.41c.39.39.9.59 1.41.59.51 0 1.02-.2 1.41-.59l7.78-7.78 2.81-2.81c.8-.78.8-2.07 0-2.86zM5.41 20L4 18.59l7.72-7.72 1.47 1.35L5.41 20z\"/>\n",
              "  </svg>\n",
              "      </button>\n",
              "      \n",
              "  <style>\n",
              "    .colab-df-container {\n",
              "      display:flex;\n",
              "      flex-wrap:wrap;\n",
              "      gap: 12px;\n",
              "    }\n",
              "\n",
              "    .colab-df-convert {\n",
              "      background-color: #E8F0FE;\n",
              "      border: none;\n",
              "      border-radius: 50%;\n",
              "      cursor: pointer;\n",
              "      display: none;\n",
              "      fill: #1967D2;\n",
              "      height: 32px;\n",
              "      padding: 0 0 0 0;\n",
              "      width: 32px;\n",
              "    }\n",
              "\n",
              "    .colab-df-convert:hover {\n",
              "      background-color: #E2EBFA;\n",
              "      box-shadow: 0px 1px 2px rgba(60, 64, 67, 0.3), 0px 1px 3px 1px rgba(60, 64, 67, 0.15);\n",
              "      fill: #174EA6;\n",
              "    }\n",
              "\n",
              "    [theme=dark] .colab-df-convert {\n",
              "      background-color: #3B4455;\n",
              "      fill: #D2E3FC;\n",
              "    }\n",
              "\n",
              "    [theme=dark] .colab-df-convert:hover {\n",
              "      background-color: #434B5C;\n",
              "      box-shadow: 0px 1px 3px 1px rgba(0, 0, 0, 0.15);\n",
              "      filter: drop-shadow(0px 1px 2px rgba(0, 0, 0, 0.3));\n",
              "      fill: #FFFFFF;\n",
              "    }\n",
              "  </style>\n",
              "\n",
              "      <script>\n",
              "        const buttonEl =\n",
              "          document.querySelector('#df-45a65734-4431-489e-85b6-6c5e1981c774 button.colab-df-convert');\n",
              "        buttonEl.style.display =\n",
              "          google.colab.kernel.accessAllowed ? 'block' : 'none';\n",
              "\n",
              "        async function convertToInteractive(key) {\n",
              "          const element = document.querySelector('#df-45a65734-4431-489e-85b6-6c5e1981c774');\n",
              "          const dataTable =\n",
              "            await google.colab.kernel.invokeFunction('convertToInteractive',\n",
              "                                                     [key], {});\n",
              "          if (!dataTable) return;\n",
              "\n",
              "          const docLinkHtml = 'Like what you see? Visit the ' +\n",
              "            '<a target=\"_blank\" href=https://colab.research.google.com/notebooks/data_table.ipynb>data table notebook</a>'\n",
              "            + ' to learn more about interactive tables.';\n",
              "          element.innerHTML = '';\n",
              "          dataTable['output_type'] = 'display_data';\n",
              "          await google.colab.output.renderOutput(dataTable, element);\n",
              "          const docLink = document.createElement('div');\n",
              "          docLink.innerHTML = docLinkHtml;\n",
              "          element.appendChild(docLink);\n",
              "        }\n",
              "      </script>\n",
              "    </div>\n",
              "  </div>\n",
              "  "
            ]
          },
          "metadata": {},
          "execution_count": 257
        }
      ],
      "source": [
        "ATENDIDOS.head()"
      ]
    },
    {
      "cell_type": "markdown",
      "source": [
        "## Cantidad de llamados por año"
      ],
      "metadata": {
        "id": "_16cW-8uIm2o"
      }
    },
    {
      "cell_type": "code",
      "execution_count": null,
      "metadata": {
        "id": "XQIxwVhF5izE",
        "colab": {
          "base_uri": "https://localhost:8080/",
          "height": 451
        },
        "outputId": "8e5d0a79-b862-432c-9c82-c4577aa38794"
      },
      "outputs": [
        {
          "output_type": "stream",
          "name": "stdout",
          "text": [
            "      count\n",
            "año        \n",
            "2017   9887\n",
            "2018   8054\n",
            "2019   7819\n",
            "2020   9088\n",
            "2021   9367\n",
            "2022   1488\n"
          ]
        },
        {
          "output_type": "execute_result",
          "data": {
            "text/plain": [
              "<matplotlib.axes._subplots.AxesSubplot at 0x7f6c67118b90>"
            ]
          },
          "metadata": {},
          "execution_count": 258
        },
        {
          "output_type": "display_data",
          "data": {
            "text/plain": [
              "<Figure size 432x288 with 1 Axes>"
            ],
            "image/png": "[encoded data removed]"
          },
          "metadata": {
            "needs_background": "light"
          }
        }
      ],
      "source": [
        "llamados_año = ATENDIDOS.groupby([ATENDIDOS['fecha'].dt.year.rename('año')]).agg({'count'})[\"caso_id\"]\n",
        "print(llamados_año)\n",
        "llamados_año.plot(kind='bar')"
      ]
    },
    {
      "cell_type": "markdown",
      "source": [
        "## Cantidad de llamados por mes"
      ],
      "metadata": {
        "id": "bmbeFidqcjwq"
      }
    },
    {
      "cell_type": "code",
      "source": [
        "count_llamados_mes = ATENDIDOS.groupby([ATENDIDOS['fecha'].dt.year.rename('año'), ATENDIDOS['fecha'].dt.month.rename('mes')]).agg({'count'})[\"caso_id\"]\n",
        "count_llamados_mes"
      ],
      "metadata": {
        "colab": {
          "base_uri": "https://localhost:8080/",
          "height": 455
        },
        "id": "YUKI4N4gb3vq",
        "outputId": "d97461d7-7a2b-4a53-bd43-84c07203b703"
      },
      "execution_count": null,
      "outputs": [
        {
          "output_type": "execute_result",
          "data": {
            "text/plain": [
              "          count\n",
              "año  mes       \n",
              "2017 1     1166\n",
              "     2      948\n",
              "     3     1110\n",
              "     4      868\n",
              "     5      815\n",
              "...         ...\n",
              "2021 10     767\n",
              "     11     735\n",
              "     12     765\n",
              "2022 1      758\n",
              "     2      730\n",
              "\n",
              "[62 rows x 1 columns]"
            ],
            "text/html": [
              "\n",
              "  <div id=\"df-e7f3af91-921c-4bc7-8514-0fce2b6d43ef\">\n",
              "    <div class=\"colab-df-container\">\n",
              "      <div>\n",
              "<style scoped>\n",
              "    .dataframe tbody tr th:only-of-type {\n",
              "        vertical-align: middle;\n",
              "    }\n",
              "\n",
              "    .dataframe tbody tr th {\n",
              "        vertical-align: top;\n",
              "    }\n",
              "\n",
              "    .dataframe thead th {\n",
              "        text-align: right;\n",
              "    }\n",
              "</style>\n",
              "<table border=\"1\" class=\"dataframe\">\n",
              "  <thead>\n",
              "    <tr style=\"text-align: right;\">\n",
              "      <th></th>\n",
              "      <th></th>\n",
              "      <th>count</th>\n",
              "    </tr>\n",
              "    <tr>\n",
              "      <th>año</th>\n",
              "      <th>mes</th>\n",
              "      <th></th>\n",
              "    </tr>\n",
              "  </thead>\n",
              "  <tbody>\n",
              "    <tr>\n",
              "      <th rowspan=\"5\" valign=\"top\">2017</th>\n",
              "      <th>1</th>\n",
              "      <td>1166</td>\n",
              "    </tr>\n",
              "    <tr>\n",
              "      <th>2</th>\n",
              "      <td>948</td>\n",
              "    </tr>\n",
              "    <tr>\n",
              "      <th>3</th>\n",
              "      <td>1110</td>\n",
              "    </tr>\n",
              "    <tr>\n",
              "      <th>4</th>\n",
              "      <td>868</td>\n",
              "    </tr>\n",
              "    <tr>\n",
              "      <th>5</th>\n",
              "      <td>815</td>\n",
              "    </tr>\n",
              "    <tr>\n",
              "      <th>...</th>\n",
              "      <th>...</th>\n",
              "      <td>...</td>\n",
              "    </tr>\n",
              "    <tr>\n",
              "      <th rowspan=\"3\" valign=\"top\">2021</th>\n",
              "      <th>10</th>\n",
              "      <td>767</td>\n",
              "    </tr>\n",
              "    <tr>\n",
              "      <th>11</th>\n",
              "      <td>735</td>\n",
              "    </tr>\n",
              "    <tr>\n",
              "      <th>12</th>\n",
              "      <td>765</td>\n",
              "    </tr>\n",
              "    <tr>\n",
              "      <th rowspan=\"2\" valign=\"top\">2022</th>\n",
              "      <th>1</th>\n",
              "      <td>758</td>\n",
              "    </tr>\n",
              "    <tr>\n",
              "      <th>2</th>\n",
              "      <td>730</td>\n",
              "    </tr>\n",
              "  </tbody>\n",
              "</table>\n",
              "<p>62 rows × 1 columns</p>\n",
              "</div>\n",
              "      <button class=\"colab-df-convert\" onclick=\"convertToInteractive('df-e7f3af91-921c-4bc7-8514-0fce2b6d43ef')\"\n",
              "              title=\"Convert this dataframe to an interactive table.\"\n",
              "              style=\"display:none;\">\n",
              "        \n",
              "  <svg xmlns=\"http://www.w3.org/2000/svg\" height=\"24px\"viewBox=\"0 0 24 24\"\n",
              "       width=\"24px\">\n",
              "    <path d=\"M0 0h24v24H0V0z\" fill=\"none\"/>\n",
              "    <path d=\"M18.56 5.44l.94 2.06.94-2.06 2.06-.94-2.06-.94-.94-2.06-.94 2.06-2.06.94zm-11 1L8.5 8.5l.94-2.06 2.06-.94-2.06-.94L8.5 2.5l-.94 2.06-2.06.94zm10 10l.94 2.06.94-2.06 2.06-.94-2.06-.94-.94-2.06-.94 2.06-2.06.94z\"/><path d=\"M17.41 7.96l-1.37-1.37c-.4-.4-.92-.59-1.43-.59-.52 0-1.04.2-1.43.59L10.3 9.45l-7.72 7.72c-.78.78-.78 2.05 0 2.83L4 21.41c.39.39.9.59 1.41.59.51 0 1.02-.2 1.41-.59l7.78-7.78 2.81-2.81c.8-.78.8-2.07 0-2.86zM5.41 20L4 18.59l7.72-7.72 1.47 1.35L5.41 20z\"/>\n",
              "  </svg>\n",
              "      </button>\n",
              "      \n",
              "  <style>\n",
              "    .colab-df-container {\n",
              "      display:flex;\n",
              "      flex-wrap:wrap;\n",
              "      gap: 12px;\n",
              "    }\n",
              "\n",
              "    .colab-df-convert {\n",
              "      background-color: #E8F0FE;\n",
              "      border: none;\n",
              "      border-radius: 50%;\n",
              "      cursor: pointer;\n",
              "      display: none;\n",
              "      fill: #1967D2;\n",
              "      height: 32px;\n",
              "      padding: 0 0 0 0;\n",
              "      width: 32px;\n",
              "    }\n",
              "\n",
              "    .colab-df-convert:hover {\n",
              "      background-color: #E2EBFA;\n",
              "      box-shadow: 0px 1px 2px rgba(60, 64, 67, 0.3), 0px 1px 3px 1px rgba(60, 64, 67, 0.15);\n",
              "      fill: #174EA6;\n",
              "    }\n",
              "\n",
              "    [theme=dark] .colab-df-convert {\n",
              "      background-color: #3B4455;\n",
              "      fill: #D2E3FC;\n",
              "    }\n",
              "\n",
              "    [theme=dark] .colab-df-convert:hover {\n",
              "      background-color: #434B5C;\n",
              "      box-shadow: 0px 1px 3px 1px rgba(0, 0, 0, 0.15);\n",
              "      filter: drop-shadow(0px 1px 2px rgba(0, 0, 0, 0.3));\n",
              "      fill: #FFFFFF;\n",
              "    }\n",
              "  </style>\n",
              "\n",
              "      <script>\n",
              "        const buttonEl =\n",
              "          document.querySelector('#df-e7f3af91-921c-4bc7-8514-0fce2b6d43ef button.colab-df-convert');\n",
              "        buttonEl.style.display =\n",
              "          google.colab.kernel.accessAllowed ? 'block' : 'none';\n",
              "\n",
              "        async function convertToInteractive(key) {\n",
              "          const element = document.querySelector('#df-e7f3af91-921c-4bc7-8514-0fce2b6d43ef');\n",
              "          const dataTable =\n",
              "            await google.colab.kernel.invokeFunction('convertToInteractive',\n",
              "                                                     [key], {});\n",
              "          if (!dataTable) return;\n",
              "\n",
              "          const docLinkHtml = 'Like what you see? Visit the ' +\n",
              "            '<a target=\"_blank\" href=https://colab.research.google.com/notebooks/data_table.ipynb>data table notebook</a>'\n",
              "            + ' to learn more about interactive tables.';\n",
              "          element.innerHTML = '';\n",
              "          dataTable['output_type'] = 'display_data';\n",
              "          await google.colab.output.renderOutput(dataTable, element);\n",
              "          const docLink = document.createElement('div');\n",
              "          docLink.innerHTML = docLinkHtml;\n",
              "          element.appendChild(docLink);\n",
              "        }\n",
              "      </script>\n",
              "    </div>\n",
              "  </div>\n",
              "  "
            ]
          },
          "metadata": {},
          "execution_count": 261
        }
      ]
    },
    {
      "cell_type": "markdown",
      "source": [
        "## Cantidad de llamados por día"
      ],
      "metadata": {
        "id": "3iZf2Lgqe6e7"
      }
    },
    {
      "cell_type": "code",
      "source": [
        "count_llamados_mes = ATENDIDOS.groupby([ATENDIDOS['fecha'].dt.year.rename('año'), ATENDIDOS['fecha'].dt.month.rename('mes')]).agg({'count'})[\"caso_id\"]\n",
        "count_llamados_dia = ATENDIDOS['fecha'].groupby(ATENDIDOS['fecha'].dt.floor('d')).size().reset_index(name='llamados')\n",
        "count_llamados_dia"
      ],
      "metadata": {
        "colab": {
          "base_uri": "https://localhost:8080/",
          "height": 424
        },
        "id": "6BkHA67lewo7",
        "outputId": "bcbd74df-fd6b-4513-df3d-7c9fa70bfa60"
      },
      "execution_count": null,
      "outputs": [
        {
          "output_type": "execute_result",
          "data": {
            "text/plain": [
              "          fecha  llamados\n",
              "0    2017-01-01        35\n",
              "1    2017-01-02        56\n",
              "2    2017-01-03        41\n",
              "3    2017-01-04        44\n",
              "4    2017-01-05        38\n",
              "...         ...       ...\n",
              "1878 2022-02-24        37\n",
              "1879 2022-02-25        20\n",
              "1880 2022-02-26        25\n",
              "1881 2022-02-27        24\n",
              "1882 2022-02-28        19\n",
              "\n",
              "[1883 rows x 2 columns]"
            ],
            "text/html": [
              "\n",
              "  <div id=\"df-1f63a643-3471-442b-8fcf-842efae4233d\">\n",
              "    <div class=\"colab-df-container\">\n",
              "      <div>\n",
              "<style scoped>\n",
              "    .dataframe tbody tr th:only-of-type {\n",
              "        vertical-align: middle;\n",
              "    }\n",
              "\n",
              "    .dataframe tbody tr th {\n",
              "        vertical-align: top;\n",
              "    }\n",
              "\n",
              "    .dataframe thead th {\n",
              "        text-align: right;\n",
              "    }\n",
              "</style>\n",
              "<table border=\"1\" class=\"dataframe\">\n",
              "  <thead>\n",
              "    <tr style=\"text-align: right;\">\n",
              "      <th></th>\n",
              "      <th>fecha</th>\n",
              "      <th>llamados</th>\n",
              "    </tr>\n",
              "  </thead>\n",
              "  <tbody>\n",
              "    <tr>\n",
              "      <th>0</th>\n",
              "      <td>2017-01-01</td>\n",
              "      <td>35</td>\n",
              "    </tr>\n",
              "    <tr>\n",
              "      <th>1</th>\n",
              "      <td>2017-01-02</td>\n",
              "      <td>56</td>\n",
              "    </tr>\n",
              "    <tr>\n",
              "      <th>2</th>\n",
              "      <td>2017-01-03</td>\n",
              "      <td>41</td>\n",
              "    </tr>\n",
              "    <tr>\n",
              "      <th>3</th>\n",
              "      <td>2017-01-04</td>\n",
              "      <td>44</td>\n",
              "    </tr>\n",
              "    <tr>\n",
              "      <th>4</th>\n",
              "      <td>2017-01-05</td>\n",
              "      <td>38</td>\n",
              "    </tr>\n",
              "    <tr>\n",
              "      <th>...</th>\n",
              "      <td>...</td>\n",
              "      <td>...</td>\n",
              "    </tr>\n",
              "    <tr>\n",
              "      <th>1878</th>\n",
              "      <td>2022-02-24</td>\n",
              "      <td>37</td>\n",
              "    </tr>\n",
              "    <tr>\n",
              "      <th>1879</th>\n",
              "      <td>2022-02-25</td>\n",
              "      <td>20</td>\n",
              "    </tr>\n",
              "    <tr>\n",
              "      <th>1880</th>\n",
              "      <td>2022-02-26</td>\n",
              "      <td>25</td>\n",
              "    </tr>\n",
              "    <tr>\n",
              "      <th>1881</th>\n",
              "      <td>2022-02-27</td>\n",
              "      <td>24</td>\n",
              "    </tr>\n",
              "    <tr>\n",
              "      <th>1882</th>\n",
              "      <td>2022-02-28</td>\n",
              "      <td>19</td>\n",
              "    </tr>\n",
              "  </tbody>\n",
              "</table>\n",
              "<p>1883 rows × 2 columns</p>\n",
              "</div>\n",
              "      <button class=\"colab-df-convert\" onclick=\"convertToInteractive('df-1f63a643-3471-442b-8fcf-842efae4233d')\"\n",
              "              title=\"Convert this dataframe to an interactive table.\"\n",
              "              style=\"display:none;\">\n",
              "        \n",
              "  <svg xmlns=\"http://www.w3.org/2000/svg\" height=\"24px\"viewBox=\"0 0 24 24\"\n",
              "       width=\"24px\">\n",
              "    <path d=\"M0 0h24v24H0V0z\" fill=\"none\"/>\n",
              "    <path d=\"M18.56 5.44l.94 2.06.94-2.06 2.06-.94-2.06-.94-.94-2.06-.94 2.06-2.06.94zm-11 1L8.5 8.5l.94-2.06 2.06-.94-2.06-.94L8.5 2.5l-.94 2.06-2.06.94zm10 10l.94 2.06.94-2.06 2.06-.94-2.06-.94-.94-2.06-.94 2.06-2.06.94z\"/><path d=\"M17.41 7.96l-1.37-1.37c-.4-.4-.92-.59-1.43-.59-.52 0-1.04.2-1.43.59L10.3 9.45l-7.72 7.72c-.78.78-.78 2.05 0 2.83L4 21.41c.39.39.9.59 1.41.59.51 0 1.02-.2 1.41-.59l7.78-7.78 2.81-2.81c.8-.78.8-2.07 0-2.86zM5.41 20L4 18.59l7.72-7.72 1.47 1.35L5.41 20z\"/>\n",
              "  </svg>\n",
              "      </button>\n",
              "      \n",
              "  <style>\n",
              "    .colab-df-container {\n",
              "      display:flex;\n",
              "      flex-wrap:wrap;\n",
              "      gap: 12px;\n",
              "    }\n",
              "\n",
              "    .colab-df-convert {\n",
              "      background-color: #E8F0FE;\n",
              "      border: none;\n",
              "      border-radius: 50%;\n",
              "      cursor: pointer;\n",
              "      display: none;\n",
              "      fill: #1967D2;\n",
              "      height: 32px;\n",
              "      padding: 0 0 0 0;\n",
              "      width: 32px;\n",
              "    }\n",
              "\n",
              "    .colab-df-convert:hover {\n",
              "      background-color: #E2EBFA;\n",
              "      box-shadow: 0px 1px 2px rgba(60, 64, 67, 0.3), 0px 1px 3px 1px rgba(60, 64, 67, 0.15);\n",
              "      fill: #174EA6;\n",
              "    }\n",
              "\n",
              "    [theme=dark] .colab-df-convert {\n",
              "      background-color: #3B4455;\n",
              "      fill: #D2E3FC;\n",
              "    }\n",
              "\n",
              "    [theme=dark] .colab-df-convert:hover {\n",
              "      background-color: #434B5C;\n",
              "      box-shadow: 0px 1px 3px 1px rgba(0, 0, 0, 0.15);\n",
              "      filter: drop-shadow(0px 1px 2px rgba(0, 0, 0, 0.3));\n",
              "      fill: #FFFFFF;\n",
              "    }\n",
              "  </style>\n",
              "\n",
              "      <script>\n",
              "        const buttonEl =\n",
              "          document.querySelector('#df-1f63a643-3471-442b-8fcf-842efae4233d button.colab-df-convert');\n",
              "        buttonEl.style.display =\n",
              "          google.colab.kernel.accessAllowed ? 'block' : 'none';\n",
              "\n",
              "        async function convertToInteractive(key) {\n",
              "          const element = document.querySelector('#df-1f63a643-3471-442b-8fcf-842efae4233d');\n",
              "          const dataTable =\n",
              "            await google.colab.kernel.invokeFunction('convertToInteractive',\n",
              "                                                     [key], {});\n",
              "          if (!dataTable) return;\n",
              "\n",
              "          const docLinkHtml = 'Like what you see? Visit the ' +\n",
              "            '<a target=\"_blank\" href=https://colab.research.google.com/notebooks/data_table.ipynb>data table notebook</a>'\n",
              "            + ' to learn more about interactive tables.';\n",
              "          element.innerHTML = '';\n",
              "          dataTable['output_type'] = 'display_data';\n",
              "          await google.colab.output.renderOutput(dataTable, element);\n",
              "          const docLink = document.createElement('div');\n",
              "          docLink.innerHTML = docLinkHtml;\n",
              "          element.appendChild(docLink);\n",
              "        }\n",
              "      </script>\n",
              "    </div>\n",
              "  </div>\n",
              "  "
            ]
          },
          "metadata": {},
          "execution_count": 262
        }
      ]
    },
    {
      "cell_type": "markdown",
      "source": [
        "## ¿Quién llama?"
      ],
      "metadata": {
        "id": "o6gq06XYIwcr"
      }
    },
    {
      "cell_type": "code",
      "source": [
        "ATENDIDOS = ATENDIDOS[ATENDIDOS['llamante_descripcion']!='NS/NC']"
      ],
      "metadata": {
        "id": "hqRQGS67WUmI"
      },
      "execution_count": null,
      "outputs": []
    },
    {
      "cell_type": "code",
      "execution_count": null,
      "metadata": {
        "id": "zas39oMN38Do",
        "colab": {
          "base_uri": "https://localhost:8080/",
          "height": 363
        },
        "outputId": "520aebc3-c2f8-4edf-b8b7-119fac32c6c9"
      },
      "outputs": [
        {
          "output_type": "execute_result",
          "data": {
            "text/plain": [
              "                               llamante_descripcion porcentaje_llamante\n",
              "Víctima                                       13331             38.032%\n",
              "Comisaría                                     10793             30.791%\n",
              "Familiar                                       5510              15.72%\n",
              "Vecina/o                                       1973              5.629%\n",
              "Otro/a                                         1415              4.037%\n",
              "Otra institución                               1241               3.54%\n",
              "Hospital                                        613              1.749%\n",
              "Agresor/a                                       154              0.439%\n",
              "Defensoría                                       21               0.06%\n",
              "Profesionales de la Línea 137                     1              0.003%"
            ],
            "text/html": [
              "\n",
              "  <div id=\"df-26e8a433-a23b-42fc-abfd-ae919f9aea05\">\n",
              "    <div class=\"colab-df-container\">\n",
              "      <div>\n",
              "<style scoped>\n",
              "    .dataframe tbody tr th:only-of-type {\n",
              "        vertical-align: middle;\n",
              "    }\n",
              "\n",
              "    .dataframe tbody tr th {\n",
              "        vertical-align: top;\n",
              "    }\n",
              "\n",
              "    .dataframe thead th {\n",
              "        text-align: right;\n",
              "    }\n",
              "</style>\n",
              "<table border=\"1\" class=\"dataframe\">\n",
              "  <thead>\n",
              "    <tr style=\"text-align: right;\">\n",
              "      <th></th>\n",
              "      <th>llamante_descripcion</th>\n",
              "      <th>porcentaje_llamante</th>\n",
              "    </tr>\n",
              "  </thead>\n",
              "  <tbody>\n",
              "    <tr>\n",
              "      <th>Víctima</th>\n",
              "      <td>13331</td>\n",
              "      <td>38.032%</td>\n",
              "    </tr>\n",
              "    <tr>\n",
              "      <th>Comisaría</th>\n",
              "      <td>10793</td>\n",
              "      <td>30.791%</td>\n",
              "    </tr>\n",
              "    <tr>\n",
              "      <th>Familiar</th>\n",
              "      <td>5510</td>\n",
              "      <td>15.72%</td>\n",
              "    </tr>\n",
              "    <tr>\n",
              "      <th>Vecina/o</th>\n",
              "      <td>1973</td>\n",
              "      <td>5.629%</td>\n",
              "    </tr>\n",
              "    <tr>\n",
              "      <th>Otro/a</th>\n",
              "      <td>1415</td>\n",
              "      <td>4.037%</td>\n",
              "    </tr>\n",
              "    <tr>\n",
              "      <th>Otra institución</th>\n",
              "      <td>1241</td>\n",
              "      <td>3.54%</td>\n",
              "    </tr>\n",
              "    <tr>\n",
              "      <th>Hospital</th>\n",
              "      <td>613</td>\n",
              "      <td>1.749%</td>\n",
              "    </tr>\n",
              "    <tr>\n",
              "      <th>Agresor/a</th>\n",
              "      <td>154</td>\n",
              "      <td>0.439%</td>\n",
              "    </tr>\n",
              "    <tr>\n",
              "      <th>Defensoría</th>\n",
              "      <td>21</td>\n",
              "      <td>0.06%</td>\n",
              "    </tr>\n",
              "    <tr>\n",
              "      <th>Profesionales de la Línea 137</th>\n",
              "      <td>1</td>\n",
              "      <td>0.003%</td>\n",
              "    </tr>\n",
              "  </tbody>\n",
              "</table>\n",
              "</div>\n",
              "      <button class=\"colab-df-convert\" onclick=\"convertToInteractive('df-26e8a433-a23b-42fc-abfd-ae919f9aea05')\"\n",
              "              title=\"Convert this dataframe to an interactive table.\"\n",
              "              style=\"display:none;\">\n",
              "        \n",
              "  <svg xmlns=\"http://www.w3.org/2000/svg\" height=\"24px\"viewBox=\"0 0 24 24\"\n",
              "       width=\"24px\">\n",
              "    <path d=\"M0 0h24v24H0V0z\" fill=\"none\"/>\n",
              "    <path d=\"M18.56 5.44l.94 2.06.94-2.06 2.06-.94-2.06-.94-.94-2.06-.94 2.06-2.06.94zm-11 1L8.5 8.5l.94-2.06 2.06-.94-2.06-.94L8.5 2.5l-.94 2.06-2.06.94zm10 10l.94 2.06.94-2.06 2.06-.94-2.06-.94-.94-2.06-.94 2.06-2.06.94z\"/><path d=\"M17.41 7.96l-1.37-1.37c-.4-.4-.92-.59-1.43-.59-.52 0-1.04.2-1.43.59L10.3 9.45l-7.72 7.72c-.78.78-.78 2.05 0 2.83L4 21.41c.39.39.9.59 1.41.59.51 0 1.02-.2 1.41-.59l7.78-7.78 2.81-2.81c.8-.78.8-2.07 0-2.86zM5.41 20L4 18.59l7.72-7.72 1.47 1.35L5.41 20z\"/>\n",
              "  </svg>\n",
              "      </button>\n",
              "      \n",
              "  <style>\n",
              "    .colab-df-container {\n",
              "      display:flex;\n",
              "      flex-wrap:wrap;\n",
              "      gap: 12px;\n",
              "    }\n",
              "\n",
              "    .colab-df-convert {\n",
              "      background-color: #E8F0FE;\n",
              "      border: none;\n",
              "      border-radius: 50%;\n",
              "      cursor: pointer;\n",
              "      display: none;\n",
              "      fill: #1967D2;\n",
              "      height: 32px;\n",
              "      padding: 0 0 0 0;\n",
              "      width: 32px;\n",
              "    }\n",
              "\n",
              "    .colab-df-convert:hover {\n",
              "      background-color: #E2EBFA;\n",
              "      box-shadow: 0px 1px 2px rgba(60, 64, 67, 0.3), 0px 1px 3px 1px rgba(60, 64, 67, 0.15);\n",
              "      fill: #174EA6;\n",
              "    }\n",
              "\n",
              "    [theme=dark] .colab-df-convert {\n",
              "      background-color: #3B4455;\n",
              "      fill: #D2E3FC;\n",
              "    }\n",
              "\n",
              "    [theme=dark] .colab-df-convert:hover {\n",
              "      background-color: #434B5C;\n",
              "      box-shadow: 0px 1px 3px 1px rgba(0, 0, 0, 0.15);\n",
              "      filter: drop-shadow(0px 1px 2px rgba(0, 0, 0, 0.3));\n",
              "      fill: #FFFFFF;\n",
              "    }\n",
              "  </style>\n",
              "\n",
              "      <script>\n",
              "        const buttonEl =\n",
              "          document.querySelector('#df-26e8a433-a23b-42fc-abfd-ae919f9aea05 button.colab-df-convert');\n",
              "        buttonEl.style.display =\n",
              "          google.colab.kernel.accessAllowed ? 'block' : 'none';\n",
              "\n",
              "        async function convertToInteractive(key) {\n",
              "          const element = document.querySelector('#df-26e8a433-a23b-42fc-abfd-ae919f9aea05');\n",
              "          const dataTable =\n",
              "            await google.colab.kernel.invokeFunction('convertToInteractive',\n",
              "                                                     [key], {});\n",
              "          if (!dataTable) return;\n",
              "\n",
              "          const docLinkHtml = 'Like what you see? Visit the ' +\n",
              "            '<a target=\"_blank\" href=https://colab.research.google.com/notebooks/data_table.ipynb>data table notebook</a>'\n",
              "            + ' to learn more about interactive tables.';\n",
              "          element.innerHTML = '';\n",
              "          dataTable['output_type'] = 'display_data';\n",
              "          await google.colab.output.renderOutput(dataTable, element);\n",
              "          const docLink = document.createElement('div');\n",
              "          docLink.innerHTML = docLinkHtml;\n",
              "          element.appendChild(docLink);\n",
              "        }\n",
              "      </script>\n",
              "    </div>\n",
              "  </div>\n",
              "  "
            ]
          },
          "metadata": {},
          "execution_count": 215
        }
      ],
      "source": [
        "ATENDIDOS['llamante_descripcion'] = ATENDIDOS['llamante_descripcion'].replace(['Otra Institución'],['Otra institución'])\n",
        "ATENDIDOS['llamante_descripcion'] = ATENDIDOS['llamante_descripcion'].replace(['Otro/a particular'],['Otro/a'])\n",
        "ATENDIDOS['llamante_descripcion'] = ATENDIDOS['llamante_descripcion'].replace(['Otra/o sobre una situación de conflicto familiar'],['Otro/a'])\n",
        "cantidad_llamante = ATENDIDOS['llamante_descripcion'].value_counts()\n",
        "porcentaje_llamante = round((ATENDIDOS['llamante_descripcion'].value_counts()/ATENDIDOS['llamante_descripcion'].value_counts().sum()) * 100,3)\n",
        "df1 = pd.DataFrame(cantidad_llamante)\n",
        "df2 = pd.DataFrame({\"porcentaje_llamante\" : porcentaje_llamante})\n",
        "df2[\"porcentaje_llamante\"] = df2[\"porcentaje_llamante\"].astype(str) + '%' \n",
        "pd.concat([df1,df2],axis=1)"
      ]
    },
    {
      "cell_type": "markdown",
      "source": [
        "## ¿Cuál es el tipo de violencia?\n"
      ],
      "metadata": {
        "id": "_QE1YINhI1r8"
      }
    },
    {
      "cell_type": "code",
      "source": [
        "ATENDIDOS = ATENDIDOS[ATENDIDOS['violencia_tipo']!='No aplica']\n",
        "ATENDIDOS = ATENDIDOS[ATENDIDOS['violencia_tipo']!='Sin dato']"
      ],
      "metadata": {
        "id": "VuntaPjiWfr2"
      },
      "execution_count": null,
      "outputs": []
    },
    {
      "cell_type": "code",
      "execution_count": null,
      "metadata": {
        "id": "7GeZaKouDC8t",
        "colab": {
          "base_uri": "https://localhost:8080/",
          "height": 363
        },
        "outputId": "7a064043-a2f9-4e4d-f649-03f699bbeb3c"
      },
      "outputs": [
        {
          "output_type": "execute_result",
          "data": {
            "text/plain": [
              "                                         violencia_tipo violencia_porcentaje\n",
              "Física y psicológica                              20809               59.42%\n",
              "Psicológica                                       12501                35.7%\n",
              "Física, psicológica y económica                     596                 1.7%\n",
              "Económica y psicológica                             377                1.08%\n",
              "Física, sexual y psicológica                        364                1.04%\n",
              "Sexual y psicológica                                241                0.69%\n",
              "Otras                                                92                0.26%\n",
              "No es un caso de Violencia Familiar                  18                0.05%\n",
              "Sexual, económica y psicológica                      15                0.04%\n",
              "Física, sexual, psicológica y económica               5                0.01%"
            ],
            "text/html": [
              "\n",
              "  <div id=\"df-3b745b64-6bbf-4a0b-84e8-a760b77982d5\">\n",
              "    <div class=\"colab-df-container\">\n",
              "      <div>\n",
              "<style scoped>\n",
              "    .dataframe tbody tr th:only-of-type {\n",
              "        vertical-align: middle;\n",
              "    }\n",
              "\n",
              "    .dataframe tbody tr th {\n",
              "        vertical-align: top;\n",
              "    }\n",
              "\n",
              "    .dataframe thead th {\n",
              "        text-align: right;\n",
              "    }\n",
              "</style>\n",
              "<table border=\"1\" class=\"dataframe\">\n",
              "  <thead>\n",
              "    <tr style=\"text-align: right;\">\n",
              "      <th></th>\n",
              "      <th>violencia_tipo</th>\n",
              "      <th>violencia_porcentaje</th>\n",
              "    </tr>\n",
              "  </thead>\n",
              "  <tbody>\n",
              "    <tr>\n",
              "      <th>Física y psicológica</th>\n",
              "      <td>20809</td>\n",
              "      <td>59.42%</td>\n",
              "    </tr>\n",
              "    <tr>\n",
              "      <th>Psicológica</th>\n",
              "      <td>12501</td>\n",
              "      <td>35.7%</td>\n",
              "    </tr>\n",
              "    <tr>\n",
              "      <th>Física, psicológica y económica</th>\n",
              "      <td>596</td>\n",
              "      <td>1.7%</td>\n",
              "    </tr>\n",
              "    <tr>\n",
              "      <th>Económica y psicológica</th>\n",
              "      <td>377</td>\n",
              "      <td>1.08%</td>\n",
              "    </tr>\n",
              "    <tr>\n",
              "      <th>Física, sexual y psicológica</th>\n",
              "      <td>364</td>\n",
              "      <td>1.04%</td>\n",
              "    </tr>\n",
              "    <tr>\n",
              "      <th>Sexual y psicológica</th>\n",
              "      <td>241</td>\n",
              "      <td>0.69%</td>\n",
              "    </tr>\n",
              "    <tr>\n",
              "      <th>Otras</th>\n",
              "      <td>92</td>\n",
              "      <td>0.26%</td>\n",
              "    </tr>\n",
              "    <tr>\n",
              "      <th>No es un caso de Violencia Familiar</th>\n",
              "      <td>18</td>\n",
              "      <td>0.05%</td>\n",
              "    </tr>\n",
              "    <tr>\n",
              "      <th>Sexual, económica y psicológica</th>\n",
              "      <td>15</td>\n",
              "      <td>0.04%</td>\n",
              "    </tr>\n",
              "    <tr>\n",
              "      <th>Física, sexual, psicológica y económica</th>\n",
              "      <td>5</td>\n",
              "      <td>0.01%</td>\n",
              "    </tr>\n",
              "  </tbody>\n",
              "</table>\n",
              "</div>\n",
              "      <button class=\"colab-df-convert\" onclick=\"convertToInteractive('df-3b745b64-6bbf-4a0b-84e8-a760b77982d5')\"\n",
              "              title=\"Convert this dataframe to an interactive table.\"\n",
              "              style=\"display:none;\">\n",
              "        \n",
              "  <svg xmlns=\"http://www.w3.org/2000/svg\" height=\"24px\"viewBox=\"0 0 24 24\"\n",
              "       width=\"24px\">\n",
              "    <path d=\"M0 0h24v24H0V0z\" fill=\"none\"/>\n",
              "    <path d=\"M18.56 5.44l.94 2.06.94-2.06 2.06-.94-2.06-.94-.94-2.06-.94 2.06-2.06.94zm-11 1L8.5 8.5l.94-2.06 2.06-.94-2.06-.94L8.5 2.5l-.94 2.06-2.06.94zm10 10l.94 2.06.94-2.06 2.06-.94-2.06-.94-.94-2.06-.94 2.06-2.06.94z\"/><path d=\"M17.41 7.96l-1.37-1.37c-.4-.4-.92-.59-1.43-.59-.52 0-1.04.2-1.43.59L10.3 9.45l-7.72 7.72c-.78.78-.78 2.05 0 2.83L4 21.41c.39.39.9.59 1.41.59.51 0 1.02-.2 1.41-.59l7.78-7.78 2.81-2.81c.8-.78.8-2.07 0-2.86zM5.41 20L4 18.59l7.72-7.72 1.47 1.35L5.41 20z\"/>\n",
              "  </svg>\n",
              "      </button>\n",
              "      \n",
              "  <style>\n",
              "    .colab-df-container {\n",
              "      display:flex;\n",
              "      flex-wrap:wrap;\n",
              "      gap: 12px;\n",
              "    }\n",
              "\n",
              "    .colab-df-convert {\n",
              "      background-color: #E8F0FE;\n",
              "      border: none;\n",
              "      border-radius: 50%;\n",
              "      cursor: pointer;\n",
              "      display: none;\n",
              "      fill: #1967D2;\n",
              "      height: 32px;\n",
              "      padding: 0 0 0 0;\n",
              "      width: 32px;\n",
              "    }\n",
              "\n",
              "    .colab-df-convert:hover {\n",
              "      background-color: #E2EBFA;\n",
              "      box-shadow: 0px 1px 2px rgba(60, 64, 67, 0.3), 0px 1px 3px 1px rgba(60, 64, 67, 0.15);\n",
              "      fill: #174EA6;\n",
              "    }\n",
              "\n",
              "    [theme=dark] .colab-df-convert {\n",
              "      background-color: #3B4455;\n",
              "      fill: #D2E3FC;\n",
              "    }\n",
              "\n",
              "    [theme=dark] .colab-df-convert:hover {\n",
              "      background-color: #434B5C;\n",
              "      box-shadow: 0px 1px 3px 1px rgba(0, 0, 0, 0.15);\n",
              "      filter: drop-shadow(0px 1px 2px rgba(0, 0, 0, 0.3));\n",
              "      fill: #FFFFFF;\n",
              "    }\n",
              "  </style>\n",
              "\n",
              "      <script>\n",
              "        const buttonEl =\n",
              "          document.querySelector('#df-3b745b64-6bbf-4a0b-84e8-a760b77982d5 button.colab-df-convert');\n",
              "        buttonEl.style.display =\n",
              "          google.colab.kernel.accessAllowed ? 'block' : 'none';\n",
              "\n",
              "        async function convertToInteractive(key) {\n",
              "          const element = document.querySelector('#df-3b745b64-6bbf-4a0b-84e8-a760b77982d5');\n",
              "          const dataTable =\n",
              "            await google.colab.kernel.invokeFunction('convertToInteractive',\n",
              "                                                     [key], {});\n",
              "          if (!dataTable) return;\n",
              "\n",
              "          const docLinkHtml = 'Like what you see? Visit the ' +\n",
              "            '<a target=\"_blank\" href=https://colab.research.google.com/notebooks/data_table.ipynb>data table notebook</a>'\n",
              "            + ' to learn more about interactive tables.';\n",
              "          element.innerHTML = '';\n",
              "          dataTable['output_type'] = 'display_data';\n",
              "          await google.colab.output.renderOutput(dataTable, element);\n",
              "          const docLink = document.createElement('div');\n",
              "          docLink.innerHTML = docLinkHtml;\n",
              "          element.appendChild(docLink);\n",
              "        }\n",
              "      </script>\n",
              "    </div>\n",
              "  </div>\n",
              "  "
            ]
          },
          "metadata": {},
          "execution_count": 220
        }
      ],
      "source": [
        "ATENDIDOS['violencia_tipo'] = ATENDIDOS['violencia_tipo'].replace(['No Aplica'],['No aplica'])\n",
        "ATENDIDOS['violencia_tipo'] = ATENDIDOS['violencia_tipo'].replace(['Económica, física y psicológica'],['Física, psicológica y económica'])\n",
        "ATENDIDOS['violencia_tipo'] = ATENDIDOS['violencia_tipo'].replace(['Económica, Física y psicológica'],['Física, psicológica y económica'])\n",
        "cantidad_violencia = ATENDIDOS['violencia_tipo'].value_counts()\n",
        "porcentaje_violencia = round((ATENDIDOS['violencia_tipo'].value_counts()/ATENDIDOS['violencia_tipo'].value_counts().sum()) * 100,2)\n",
        "df3 = pd.DataFrame(cantidad_violencia)\n",
        "df4 = pd.DataFrame({\"violencia_porcentaje\" : porcentaje_violencia})\n",
        "df4[\"violencia_porcentaje\"] = df4[\"violencia_porcentaje\"].astype(str) + '%' \n",
        "pd.concat([df3,df4],axis=1)"
      ]
    },
    {
      "cell_type": "markdown",
      "source": [
        "## Cantidad de víctimas de la denuncia\n"
      ],
      "metadata": {
        "id": "DzBRn8dgI6Mi"
      }
    },
    {
      "cell_type": "code",
      "source": [
        "ATENDIDOS = ATENDIDOS[ATENDIDOS['victima_cantidad']!=0]"
      ],
      "metadata": {
        "id": "FvWrXM56W-qk"
      },
      "execution_count": null,
      "outputs": []
    },
    {
      "cell_type": "code",
      "execution_count": null,
      "metadata": {
        "id": "wL3RVqUsEA4B",
        "colab": {
          "base_uri": "https://localhost:8080/",
          "height": 538
        },
        "outputId": "845d4973-8e74-4960-d28a-a0b80909f2a8"
      },
      "outputs": [
        {
          "output_type": "stream",
          "name": "stdout",
          "text": [
            "      victima_cantidad porcentaje_victimas\n",
            "1.0              21771              62.45%\n",
            "2.0               6743              19.34%\n",
            "3.0               3840              11.01%\n",
            "4.0               1590               4.56%\n",
            "5.0                557                1.6%\n",
            "6.0                220               0.63%\n",
            "7.0                 80               0.23%\n",
            "8.0                 38               0.11%\n",
            "9.0                 12               0.03%\n",
            "10.0                 6               0.02%\n",
            "11.0                 2               0.01%\n",
            "13.0                 2               0.01%\n",
            "12.0                 2               0.01%\n"
          ]
        },
        {
          "output_type": "execute_result",
          "data": {
            "text/plain": [
              "<matplotlib.axes._subplots.AxesSubplot at 0x7f6c66cfe250>"
            ]
          },
          "metadata": {},
          "execution_count": 224
        },
        {
          "output_type": "display_data",
          "data": {
            "text/plain": [
              "<Figure size 432x288 with 1 Axes>"
            ],
            "image/png": "[encoded data removed]"
          },
          "metadata": {
            "needs_background": "light"
          }
        }
      ],
      "source": [
        "cantidad_victimas = ATENDIDOS['victima_cantidad'].value_counts()\n",
        "porcentaje_victimas = round((ATENDIDOS['victima_cantidad'].value_counts()/ATENDIDOS['victima_cantidad'].value_counts().sum()) * 100,2)\n",
        "df5 = pd.DataFrame(cantidad_victimas)\n",
        "df6 = pd.DataFrame({\"porcentaje_victimas\" : porcentaje_victimas})\n",
        "df6[\"porcentaje_victimas\"] = df6[\"porcentaje_victimas\"].astype(str) + '%' \n",
        "print(pd.concat([df5,df6],axis=1))\n",
        "cantidad_victimas.plot(kind='bar')"
      ]
    },
    {
      "cell_type": "markdown",
      "source": [
        "## ¿Hay niños presentes? ¿Otro familiar?\n"
      ],
      "metadata": {
        "id": "QE7tCao-I-JD"
      }
    },
    {
      "cell_type": "code",
      "source": [
        "ATENDIDOS = ATENDIDOS[ATENDIDOS['llamante_vinculo_ninios_presentes']!='Sin datos']"
      ],
      "metadata": {
        "id": "Gs5qusZhXk2z"
      },
      "execution_count": null,
      "outputs": []
    },
    {
      "cell_type": "code",
      "execution_count": null,
      "metadata": {
        "id": "B6JD4xh_DV8H",
        "colab": {
          "base_uri": "https://localhost:8080/",
          "height": 269
        },
        "outputId": "52adbe72-a5bc-4ad4-dbff-a2922c0eb5e0"
      },
      "outputs": [
        {
          "output_type": "execute_result",
          "data": {
            "text/plain": [
              "                    llamante_vinculo_ninios_presentes porcentaje\n",
              "Otro/a no familiar                               9601     31.41%\n",
              "No hay niñas/os                                  8846     28.94%\n",
              "Madre                                            7375     24.13%\n",
              "Otro familiar                                    2751       9.0%\n",
              "Padre                                            1193       3.9%\n",
              "Hermano/a                                         770      2.52%\n",
              "Padrastro                                          27      0.09%"
            ],
            "text/html": [
              "\n",
              "  <div id=\"df-81abd594-ea24-44d4-8ec9-a1d53af15ea6\">\n",
              "    <div class=\"colab-df-container\">\n",
              "      <div>\n",
              "<style scoped>\n",
              "    .dataframe tbody tr th:only-of-type {\n",
              "        vertical-align: middle;\n",
              "    }\n",
              "\n",
              "    .dataframe tbody tr th {\n",
              "        vertical-align: top;\n",
              "    }\n",
              "\n",
              "    .dataframe thead th {\n",
              "        text-align: right;\n",
              "    }\n",
              "</style>\n",
              "<table border=\"1\" class=\"dataframe\">\n",
              "  <thead>\n",
              "    <tr style=\"text-align: right;\">\n",
              "      <th></th>\n",
              "      <th>llamante_vinculo_ninios_presentes</th>\n",
              "      <th>porcentaje</th>\n",
              "    </tr>\n",
              "  </thead>\n",
              "  <tbody>\n",
              "    <tr>\n",
              "      <th>Otro/a no familiar</th>\n",
              "      <td>9601</td>\n",
              "      <td>31.41%</td>\n",
              "    </tr>\n",
              "    <tr>\n",
              "      <th>No hay niñas/os</th>\n",
              "      <td>8846</td>\n",
              "      <td>28.94%</td>\n",
              "    </tr>\n",
              "    <tr>\n",
              "      <th>Madre</th>\n",
              "      <td>7375</td>\n",
              "      <td>24.13%</td>\n",
              "    </tr>\n",
              "    <tr>\n",
              "      <th>Otro familiar</th>\n",
              "      <td>2751</td>\n",
              "      <td>9.0%</td>\n",
              "    </tr>\n",
              "    <tr>\n",
              "      <th>Padre</th>\n",
              "      <td>1193</td>\n",
              "      <td>3.9%</td>\n",
              "    </tr>\n",
              "    <tr>\n",
              "      <th>Hermano/a</th>\n",
              "      <td>770</td>\n",
              "      <td>2.52%</td>\n",
              "    </tr>\n",
              "    <tr>\n",
              "      <th>Padrastro</th>\n",
              "      <td>27</td>\n",
              "      <td>0.09%</td>\n",
              "    </tr>\n",
              "  </tbody>\n",
              "</table>\n",
              "</div>\n",
              "      <button class=\"colab-df-convert\" onclick=\"convertToInteractive('df-81abd594-ea24-44d4-8ec9-a1d53af15ea6')\"\n",
              "              title=\"Convert this dataframe to an interactive table.\"\n",
              "              style=\"display:none;\">\n",
              "        \n",
              "  <svg xmlns=\"http://www.w3.org/2000/svg\" height=\"24px\"viewBox=\"0 0 24 24\"\n",
              "       width=\"24px\">\n",
              "    <path d=\"M0 0h24v24H0V0z\" fill=\"none\"/>\n",
              "    <path d=\"M18.56 5.44l.94 2.06.94-2.06 2.06-.94-2.06-.94-.94-2.06-.94 2.06-2.06.94zm-11 1L8.5 8.5l.94-2.06 2.06-.94-2.06-.94L8.5 2.5l-.94 2.06-2.06.94zm10 10l.94 2.06.94-2.06 2.06-.94-2.06-.94-.94-2.06-.94 2.06-2.06.94z\"/><path d=\"M17.41 7.96l-1.37-1.37c-.4-.4-.92-.59-1.43-.59-.52 0-1.04.2-1.43.59L10.3 9.45l-7.72 7.72c-.78.78-.78 2.05 0 2.83L4 21.41c.39.39.9.59 1.41.59.51 0 1.02-.2 1.41-.59l7.78-7.78 2.81-2.81c.8-.78.8-2.07 0-2.86zM5.41 20L4 18.59l7.72-7.72 1.47 1.35L5.41 20z\"/>\n",
              "  </svg>\n",
              "      </button>\n",
              "      \n",
              "  <style>\n",
              "    .colab-df-container {\n",
              "      display:flex;\n",
              "      flex-wrap:wrap;\n",
              "      gap: 12px;\n",
              "    }\n",
              "\n",
              "    .colab-df-convert {\n",
              "      background-color: #E8F0FE;\n",
              "      border: none;\n",
              "      border-radius: 50%;\n",
              "      cursor: pointer;\n",
              "      display: none;\n",
              "      fill: #1967D2;\n",
              "      height: 32px;\n",
              "      padding: 0 0 0 0;\n",
              "      width: 32px;\n",
              "    }\n",
              "\n",
              "    .colab-df-convert:hover {\n",
              "      background-color: #E2EBFA;\n",
              "      box-shadow: 0px 1px 2px rgba(60, 64, 67, 0.3), 0px 1px 3px 1px rgba(60, 64, 67, 0.15);\n",
              "      fill: #174EA6;\n",
              "    }\n",
              "\n",
              "    [theme=dark] .colab-df-convert {\n",
              "      background-color: #3B4455;\n",
              "      fill: #D2E3FC;\n",
              "    }\n",
              "\n",
              "    [theme=dark] .colab-df-convert:hover {\n",
              "      background-color: #434B5C;\n",
              "      box-shadow: 0px 1px 3px 1px rgba(0, 0, 0, 0.15);\n",
              "      filter: drop-shadow(0px 1px 2px rgba(0, 0, 0, 0.3));\n",
              "      fill: #FFFFFF;\n",
              "    }\n",
              "  </style>\n",
              "\n",
              "      <script>\n",
              "        const buttonEl =\n",
              "          document.querySelector('#df-81abd594-ea24-44d4-8ec9-a1d53af15ea6 button.colab-df-convert');\n",
              "        buttonEl.style.display =\n",
              "          google.colab.kernel.accessAllowed ? 'block' : 'none';\n",
              "\n",
              "        async function convertToInteractive(key) {\n",
              "          const element = document.querySelector('#df-81abd594-ea24-44d4-8ec9-a1d53af15ea6');\n",
              "          const dataTable =\n",
              "            await google.colab.kernel.invokeFunction('convertToInteractive',\n",
              "                                                     [key], {});\n",
              "          if (!dataTable) return;\n",
              "\n",
              "          const docLinkHtml = 'Like what you see? Visit the ' +\n",
              "            '<a target=\"_blank\" href=https://colab.research.google.com/notebooks/data_table.ipynb>data table notebook</a>'\n",
              "            + ' to learn more about interactive tables.';\n",
              "          element.innerHTML = '';\n",
              "          dataTable['output_type'] = 'display_data';\n",
              "          await google.colab.output.renderOutput(dataTable, element);\n",
              "          const docLink = document.createElement('div');\n",
              "          docLink.innerHTML = docLinkHtml;\n",
              "          element.appendChild(docLink);\n",
              "        }\n",
              "      </script>\n",
              "    </div>\n",
              "  </div>\n",
              "  "
            ]
          },
          "metadata": {},
          "execution_count": 227
        }
      ],
      "source": [
        "ATENDIDOS['llamante_vinculo_ninios_presentes'] = ATENDIDOS['llamante_vinculo_ninios_presentes'].replace(['Otra/o no familiar'],['Otro/a no familiar'])\n",
        "ATENDIDOS['llamante_vinculo_ninios_presentes'] = ATENDIDOS['llamante_vinculo_ninios_presentes'].replace(['Otra/o familiar'],['Otro familiar'])\n",
        "ATENDIDOS['llamante_vinculo_ninios_presentes'] = ATENDIDOS['llamante_vinculo_ninios_presentes'].replace(['Hermana/o'],['Hermano/a'])\n",
        "ATENDIDOS['llamante_vinculo_ninios_presentes'] = ATENDIDOS['llamante_vinculo_ninios_presentes'].replace(['NS/NC'],['Sin datos'])\n",
        "cantidad_familiares = ATENDIDOS['llamante_vinculo_ninios_presentes'].value_counts()\n",
        "porcentaje_familiares = round((ATENDIDOS['llamante_vinculo_ninios_presentes'].value_counts()/ATENDIDOS['llamante_vinculo_ninios_presentes'].value_counts().sum()) * 100,2)\n",
        "df7 = pd.DataFrame(cantidad_familiares)\n",
        "df8 = pd.DataFrame({\"porcentaje\" : porcentaje_familiares})\n",
        "df8[\"porcentaje\"] = df8[\"porcentaje\"].astype(str) + '%' \n",
        "pd.concat([df7,df8],axis=1)"
      ]
    },
    {
      "cell_type": "markdown",
      "source": [
        "## ¿Qué edad tiene la víctima?\n"
      ],
      "metadata": {
        "id": "Ih9cqDM9JD1L"
      }
    },
    {
      "cell_type": "code",
      "source": [
        "ATENDIDOS = ATENDIDOS[ATENDIDOS['victima_rango_etario']!='Sin dato']"
      ],
      "metadata": {
        "id": "CwBc6pX3X0-Z"
      },
      "execution_count": null,
      "outputs": []
    },
    {
      "cell_type": "code",
      "execution_count": null,
      "metadata": {
        "id": "F5fuY4gzDh46",
        "colab": {
          "base_uri": "https://localhost:8080/",
          "height": 508
        },
        "outputId": "166db871-9ad8-4a4e-9997-93a00a1c5f9f"
      },
      "outputs": [
        {
          "output_type": "stream",
          "name": "stdout",
          "text": [
            "                victima_rango_etario porcentaje_rango_etario\n",
            "18 a 29 años                    6525                  29.25%\n",
            "30 a 39 años                    4921                  22.06%\n",
            "40 a 49 años                    3153                  14.13%\n",
            "Más de 60 años                  2147                   9.62%\n",
            "12 a 17 años                    1873                    8.4%\n",
            "50 a 59 años                    1344                   6.02%\n",
            "6 a 11 años                     1278                   5.73%\n",
            "0 a 5 años                      1069                   4.79%\n"
          ]
        },
        {
          "output_type": "execute_result",
          "data": {
            "text/plain": [
              "<matplotlib.axes._subplots.AxesSubplot at 0x7f6c66d85b90>"
            ]
          },
          "metadata": {},
          "execution_count": 231
        },
        {
          "output_type": "display_data",
          "data": {
            "text/plain": [
              "<Figure size 432x288 with 1 Axes>"
            ],
            "image/png": "[encoded data removed]"
          },
          "metadata": {
            "needs_background": "light"
          }
        }
      ],
      "source": [
        "ATENDIDOS['victima_rango_etario'] = ATENDIDOS['victima_rango_etario'].replace(['06 a 11 años'],['6 a 11 años'])\n",
        "rango_etario = ATENDIDOS['victima_rango_etario'].value_counts()\n",
        "porcentaje_etario = round((ATENDIDOS['victima_rango_etario'].value_counts()/ATENDIDOS['victima_rango_etario'].value_counts().sum()) * 100,2)\n",
        "df9 = pd.DataFrame(rango_etario)\n",
        "df10 = pd.DataFrame({\"porcentaje_rango_etario\" : porcentaje_etario})\n",
        "df10[\"porcentaje_rango_etario\"] = df10[\"porcentaje_rango_etario\"].astype(str) + '%' \n",
        "\n",
        "print(pd.concat([df9,df10],axis=1))\n",
        "rango_etario.plot(kind='bar')"
      ]
    },
    {
      "cell_type": "markdown",
      "source": [
        "## ¿Qué género tiene la víctima?\n"
      ],
      "metadata": {
        "id": "tGY3v6rUJKnl"
      }
    },
    {
      "cell_type": "code",
      "source": [
        "ATENDIDOS=ATENDIDOS[ATENDIDOS['victima_genero']!='NS/NC']"
      ],
      "metadata": {
        "id": "zuacnJKmVReK"
      },
      "execution_count": null,
      "outputs": []
    },
    {
      "cell_type": "code",
      "execution_count": null,
      "metadata": {
        "id": "hBXWHNnlD3P4",
        "colab": {
          "base_uri": "https://localhost:8080/",
          "height": 406
        },
        "outputId": "c7163c4e-b03b-4505-9de1-10814c92533a"
      },
      "outputs": [
        {
          "output_type": "stream",
          "name": "stdout",
          "text": [
            "             victima_genero porcentaje_genero_victima\n",
            "Femenino              19178                    85.96%\n",
            "Masculino              3098                    13.89%\n",
            "Transgénero              34                     0.15%\n"
          ]
        },
        {
          "output_type": "execute_result",
          "data": {
            "text/plain": [
              "<matplotlib.axes._subplots.AxesSubplot at 0x7f6c6690d0d0>"
            ]
          },
          "metadata": {},
          "execution_count": 233
        },
        {
          "output_type": "display_data",
          "data": {
            "text/plain": [
              "<Figure size 432x288 with 1 Axes>"
            ],
            "image/png": "[encoded data removed]"
          },
          "metadata": {
            "needs_background": "light"
          }
        }
      ],
      "source": [
        "genero_victima = ATENDIDOS['victima_genero'].value_counts()\n",
        "porcentaje_genero_victima = round((ATENDIDOS['victima_genero'].value_counts()/ATENDIDOS['victima_genero'].value_counts().sum()) * 100,2)\n",
        "df11 = pd.DataFrame(genero_victima)\n",
        "df12 = pd.DataFrame({\"porcentaje_genero_victima\":porcentaje_genero_victima})\n",
        "df12[\"porcentaje_genero_victima\"] = df12[\"porcentaje_genero_victima\"].astype(str) + '%' \n",
        "print(pd.concat([df11,df12],axis=1))\n",
        "genero_victima.plot(kind='bar')"
      ]
    },
    {
      "cell_type": "markdown",
      "source": [
        "## ¿Qué género tiene el agresor?\n"
      ],
      "metadata": {
        "id": "jo3DB0vMJOu7"
      }
    },
    {
      "cell_type": "code",
      "source": [
        "ATENDIDOS=ATENDIDOS[ATENDIDOS['agresor_genero']!='NS/NC']"
      ],
      "metadata": {
        "id": "gLsNHzERYBVN"
      },
      "execution_count": null,
      "outputs": []
    },
    {
      "cell_type": "code",
      "execution_count": null,
      "metadata": {
        "id": "VjIXrNpEEKwR",
        "colab": {
          "base_uri": "https://localhost:8080/",
          "height": 404
        },
        "outputId": "14040ec0-b0d9-4676-f653-9fec57d5305c"
      },
      "outputs": [
        {
          "output_type": "stream",
          "name": "stdout",
          "text": [
            "             agresor_genero porcentaje_genero_agresor\n",
            "Masculino             17548                    80.62%\n",
            "Femenino               4211                    19.35%\n",
            "Transgénero               7                     0.03%\n"
          ]
        },
        {
          "output_type": "execute_result",
          "data": {
            "text/plain": [
              "<matplotlib.axes._subplots.AxesSubplot at 0x7f6c67148190>"
            ]
          },
          "metadata": {},
          "execution_count": 235
        },
        {
          "output_type": "display_data",
          "data": {
            "text/plain": [
              "<Figure size 432x288 with 1 Axes>"
            ],
            "image/png": "[encoded data removed]"
          },
          "metadata": {
            "needs_background": "light"
          }
        }
      ],
      "source": [
        "genero_agresor = ATENDIDOS['agresor_genero'].value_counts()\n",
        "porcentaje_genero_agresor = round((ATENDIDOS['agresor_genero'].value_counts()/ATENDIDOS['agresor_genero'].value_counts().sum()) * 100,2)\n",
        "df13 = pd.DataFrame(genero_agresor)\n",
        "df14 = pd.DataFrame({\"porcentaje_genero_agresor\":porcentaje_genero_agresor})\n",
        "df14[\"porcentaje_genero_agresor\"] = df14[\"porcentaje_genero_agresor\"].astype(str) + '%' \n",
        "print(pd.concat([df13,df14],axis=1))\n",
        "genero_agresor.plot(kind='bar')"
      ]
    },
    {
      "cell_type": "markdown",
      "source": [
        "## ¿Qué relación tiene el agresor con la víctima?\n"
      ],
      "metadata": {
        "id": "9zYxEsZbJTQp"
      }
    },
    {
      "cell_type": "code",
      "source": [
        "ATENDIDOS=ATENDIDOS[ATENDIDOS['agresor_relacion_victima']!='NS/NC']"
      ],
      "metadata": {
        "id": "MQog4xYUYHZy"
      },
      "execution_count": null,
      "outputs": []
    },
    {
      "cell_type": "code",
      "execution_count": null,
      "metadata": {
        "id": "1KD9LFbTERxR",
        "colab": {
          "base_uri": "https://localhost:8080/",
          "height": 426
        },
        "outputId": "65417b8d-95f4-4fec-a837-e4695ce115ac"
      },
      "outputs": [
        {
          "output_type": "execute_result",
          "data": {
            "text/plain": [
              "                       agresor_relacion_victima porcentaje\n",
              "Pareja                                     7661     35.39%\n",
              "Ex pareja                                  5501     25.41%\n",
              "Madre                                      2363     10.92%\n",
              "Padre                                      1925      8.89%\n",
              "Hijo/a                                     1690      7.81%\n",
              "Hermano/a                                   908      4.19%\n",
              "Otro/a no conviviente                       627       2.9%\n",
              "Otro/a conviviente                          437      2.02%\n",
              "Padrastro                                   405      1.87%\n",
              "Abuelo/a                                    103      0.48%\n",
              "Hermana/o                                    19      0.09%\n",
              "Madrastra                                     6      0.03%"
            ],
            "text/html": [
              "\n",
              "  <div id=\"df-c35b0f8c-3b39-43e4-9c0d-7de5ec207d29\">\n",
              "    <div class=\"colab-df-container\">\n",
              "      <div>\n",
              "<style scoped>\n",
              "    .dataframe tbody tr th:only-of-type {\n",
              "        vertical-align: middle;\n",
              "    }\n",
              "\n",
              "    .dataframe tbody tr th {\n",
              "        vertical-align: top;\n",
              "    }\n",
              "\n",
              "    .dataframe thead th {\n",
              "        text-align: right;\n",
              "    }\n",
              "</style>\n",
              "<table border=\"1\" class=\"dataframe\">\n",
              "  <thead>\n",
              "    <tr style=\"text-align: right;\">\n",
              "      <th></th>\n",
              "      <th>agresor_relacion_victima</th>\n",
              "      <th>porcentaje</th>\n",
              "    </tr>\n",
              "  </thead>\n",
              "  <tbody>\n",
              "    <tr>\n",
              "      <th>Pareja</th>\n",
              "      <td>7661</td>\n",
              "      <td>35.39%</td>\n",
              "    </tr>\n",
              "    <tr>\n",
              "      <th>Ex pareja</th>\n",
              "      <td>5501</td>\n",
              "      <td>25.41%</td>\n",
              "    </tr>\n",
              "    <tr>\n",
              "      <th>Madre</th>\n",
              "      <td>2363</td>\n",
              "      <td>10.92%</td>\n",
              "    </tr>\n",
              "    <tr>\n",
              "      <th>Padre</th>\n",
              "      <td>1925</td>\n",
              "      <td>8.89%</td>\n",
              "    </tr>\n",
              "    <tr>\n",
              "      <th>Hijo/a</th>\n",
              "      <td>1690</td>\n",
              "      <td>7.81%</td>\n",
              "    </tr>\n",
              "    <tr>\n",
              "      <th>Hermano/a</th>\n",
              "      <td>908</td>\n",
              "      <td>4.19%</td>\n",
              "    </tr>\n",
              "    <tr>\n",
              "      <th>Otro/a no conviviente</th>\n",
              "      <td>627</td>\n",
              "      <td>2.9%</td>\n",
              "    </tr>\n",
              "    <tr>\n",
              "      <th>Otro/a conviviente</th>\n",
              "      <td>437</td>\n",
              "      <td>2.02%</td>\n",
              "    </tr>\n",
              "    <tr>\n",
              "      <th>Padrastro</th>\n",
              "      <td>405</td>\n",
              "      <td>1.87%</td>\n",
              "    </tr>\n",
              "    <tr>\n",
              "      <th>Abuelo/a</th>\n",
              "      <td>103</td>\n",
              "      <td>0.48%</td>\n",
              "    </tr>\n",
              "    <tr>\n",
              "      <th>Hermana/o</th>\n",
              "      <td>19</td>\n",
              "      <td>0.09%</td>\n",
              "    </tr>\n",
              "    <tr>\n",
              "      <th>Madrastra</th>\n",
              "      <td>6</td>\n",
              "      <td>0.03%</td>\n",
              "    </tr>\n",
              "  </tbody>\n",
              "</table>\n",
              "</div>\n",
              "      <button class=\"colab-df-convert\" onclick=\"convertToInteractive('df-c35b0f8c-3b39-43e4-9c0d-7de5ec207d29')\"\n",
              "              title=\"Convert this dataframe to an interactive table.\"\n",
              "              style=\"display:none;\">\n",
              "        \n",
              "  <svg xmlns=\"http://www.w3.org/2000/svg\" height=\"24px\"viewBox=\"0 0 24 24\"\n",
              "       width=\"24px\">\n",
              "    <path d=\"M0 0h24v24H0V0z\" fill=\"none\"/>\n",
              "    <path d=\"M18.56 5.44l.94 2.06.94-2.06 2.06-.94-2.06-.94-.94-2.06-.94 2.06-2.06.94zm-11 1L8.5 8.5l.94-2.06 2.06-.94-2.06-.94L8.5 2.5l-.94 2.06-2.06.94zm10 10l.94 2.06.94-2.06 2.06-.94-2.06-.94-.94-2.06-.94 2.06-2.06.94z\"/><path d=\"M17.41 7.96l-1.37-1.37c-.4-.4-.92-.59-1.43-.59-.52 0-1.04.2-1.43.59L10.3 9.45l-7.72 7.72c-.78.78-.78 2.05 0 2.83L4 21.41c.39.39.9.59 1.41.59.51 0 1.02-.2 1.41-.59l7.78-7.78 2.81-2.81c.8-.78.8-2.07 0-2.86zM5.41 20L4 18.59l7.72-7.72 1.47 1.35L5.41 20z\"/>\n",
              "  </svg>\n",
              "      </button>\n",
              "      \n",
              "  <style>\n",
              "    .colab-df-container {\n",
              "      display:flex;\n",
              "      flex-wrap:wrap;\n",
              "      gap: 12px;\n",
              "    }\n",
              "\n",
              "    .colab-df-convert {\n",
              "      background-color: #E8F0FE;\n",
              "      border: none;\n",
              "      border-radius: 50%;\n",
              "      cursor: pointer;\n",
              "      display: none;\n",
              "      fill: #1967D2;\n",
              "      height: 32px;\n",
              "      padding: 0 0 0 0;\n",
              "      width: 32px;\n",
              "    }\n",
              "\n",
              "    .colab-df-convert:hover {\n",
              "      background-color: #E2EBFA;\n",
              "      box-shadow: 0px 1px 2px rgba(60, 64, 67, 0.3), 0px 1px 3px 1px rgba(60, 64, 67, 0.15);\n",
              "      fill: #174EA6;\n",
              "    }\n",
              "\n",
              "    [theme=dark] .colab-df-convert {\n",
              "      background-color: #3B4455;\n",
              "      fill: #D2E3FC;\n",
              "    }\n",
              "\n",
              "    [theme=dark] .colab-df-convert:hover {\n",
              "      background-color: #434B5C;\n",
              "      box-shadow: 0px 1px 3px 1px rgba(0, 0, 0, 0.15);\n",
              "      filter: drop-shadow(0px 1px 2px rgba(0, 0, 0, 0.3));\n",
              "      fill: #FFFFFF;\n",
              "    }\n",
              "  </style>\n",
              "\n",
              "      <script>\n",
              "        const buttonEl =\n",
              "          document.querySelector('#df-c35b0f8c-3b39-43e4-9c0d-7de5ec207d29 button.colab-df-convert');\n",
              "        buttonEl.style.display =\n",
              "          google.colab.kernel.accessAllowed ? 'block' : 'none';\n",
              "\n",
              "        async function convertToInteractive(key) {\n",
              "          const element = document.querySelector('#df-c35b0f8c-3b39-43e4-9c0d-7de5ec207d29');\n",
              "          const dataTable =\n",
              "            await google.colab.kernel.invokeFunction('convertToInteractive',\n",
              "                                                     [key], {});\n",
              "          if (!dataTable) return;\n",
              "\n",
              "          const docLinkHtml = 'Like what you see? Visit the ' +\n",
              "            '<a target=\"_blank\" href=https://colab.research.google.com/notebooks/data_table.ipynb>data table notebook</a>'\n",
              "            + ' to learn more about interactive tables.';\n",
              "          element.innerHTML = '';\n",
              "          dataTable['output_type'] = 'display_data';\n",
              "          await google.colab.output.renderOutput(dataTable, element);\n",
              "          const docLink = document.createElement('div');\n",
              "          docLink.innerHTML = docLinkHtml;\n",
              "          element.appendChild(docLink);\n",
              "        }\n",
              "      </script>\n",
              "    </div>\n",
              "  </div>\n",
              "  "
            ]
          },
          "metadata": {},
          "execution_count": 237
        }
      ],
      "source": [
        "relacion_victima = ATENDIDOS['agresor_relacion_victima'].value_counts()\n",
        "porcentaje_relacion_victima = round((ATENDIDOS['agresor_relacion_victima'].value_counts()/ATENDIDOS['agresor_relacion_victima'].value_counts().sum()) * 100,2)\n",
        "df15 = pd.DataFrame(relacion_victima)\n",
        "df16 = pd.DataFrame({\"porcentaje\":porcentaje_relacion_victima})\n",
        "df16[\"porcentaje\"] = df16[\"porcentaje\"].astype(str) + '%' \n",
        "pd.concat([df15,df16],axis=1)"
      ]
    },
    {
      "cell_type": "markdown",
      "source": [
        "## ¿Qué ocurre luego del llamado?\n"
      ],
      "metadata": {
        "id": "8cwPyBoWJWeh"
      }
    },
    {
      "cell_type": "code",
      "execution_count": null,
      "metadata": {
        "id": "kalyxBDIEY6R",
        "colab": {
          "base_uri": "https://localhost:8080/",
          "height": 363
        },
        "outputId": "50c741b2-573a-45fe-d620-e33b91006e13"
      },
      "outputs": [
        {
          "output_type": "execute_result",
          "data": {
            "text/plain": [
              "                                                    llamado_derivacion  \\\n",
              "Llamante solicitó información y/o orientación                    22284   \n",
              "La víctima no aceptó la intervención del Equipo...                5185   \n",
              "No se desplazó un Equipo móvil por tratarse de ...                4495   \n",
              "Comunicación con Equipos Móviles                                  3868   \n",
              "Se trata de un conflicto familiar                                 3735   \n",
              "No había móviles y/o Equipos para realizar la i...                2248   \n",
              "Desplazamiento de un Equipo Móvil a donde se en...                2121   \n",
              "Se planificó intervención para otro momento                        926   \n",
              "Está interviniendo o se deriva a otra institución                  779   \n",
              "Otras                                                               62   \n",
              "\n",
              "                                                    porcentaje_llamado_derivacion  \n",
              "Llamante solicitó información y/o orientación                               48.76  \n",
              "La víctima no aceptó la intervención del Equipo...                          11.34  \n",
              "No se desplazó un Equipo móvil por tratarse de ...                           9.84  \n",
              "Comunicación con Equipos Móviles                                             8.46  \n",
              "Se trata de un conflicto familiar                                            8.17  \n",
              "No había móviles y/o Equipos para realizar la i...                           4.92  \n",
              "Desplazamiento de un Equipo Móvil a donde se en...                           4.64  \n",
              "Se planificó intervención para otro momento                                  2.03  \n",
              "Está interviniendo o se deriva a otra institución                            1.70  \n",
              "Otras                                                                        0.14  "
            ],
            "text/html": [
              "\n",
              "  <div id=\"df-ae48c0c7-099d-458e-9be5-dc76cefc9d71\">\n",
              "    <div class=\"colab-df-container\">\n",
              "      <div>\n",
              "<style scoped>\n",
              "    .dataframe tbody tr th:only-of-type {\n",
              "        vertical-align: middle;\n",
              "    }\n",
              "\n",
              "    .dataframe tbody tr th {\n",
              "        vertical-align: top;\n",
              "    }\n",
              "\n",
              "    .dataframe thead th {\n",
              "        text-align: right;\n",
              "    }\n",
              "</style>\n",
              "<table border=\"1\" class=\"dataframe\">\n",
              "  <thead>\n",
              "    <tr style=\"text-align: right;\">\n",
              "      <th></th>\n",
              "      <th>llamado_derivacion</th>\n",
              "      <th>porcentaje_llamado_derivacion</th>\n",
              "    </tr>\n",
              "  </thead>\n",
              "  <tbody>\n",
              "    <tr>\n",
              "      <th>Llamante solicitó información y/o orientación</th>\n",
              "      <td>22284</td>\n",
              "      <td>48.76</td>\n",
              "    </tr>\n",
              "    <tr>\n",
              "      <th>La víctima no aceptó la intervención del Equipo Móvil</th>\n",
              "      <td>5185</td>\n",
              "      <td>11.34</td>\n",
              "    </tr>\n",
              "    <tr>\n",
              "      <th>No se desplazó un Equipo móvil por tratarse de un caso fuera de CABA</th>\n",
              "      <td>4495</td>\n",
              "      <td>9.84</td>\n",
              "    </tr>\n",
              "    <tr>\n",
              "      <th>Comunicación con Equipos Móviles</th>\n",
              "      <td>3868</td>\n",
              "      <td>8.46</td>\n",
              "    </tr>\n",
              "    <tr>\n",
              "      <th>Se trata de un conflicto familiar</th>\n",
              "      <td>3735</td>\n",
              "      <td>8.17</td>\n",
              "    </tr>\n",
              "    <tr>\n",
              "      <th>No había móviles y/o Equipos para realizar la intervención</th>\n",
              "      <td>2248</td>\n",
              "      <td>4.92</td>\n",
              "    </tr>\n",
              "    <tr>\n",
              "      <th>Desplazamiento de un Equipo Móvil a donde se encontraba la/s víctima/s</th>\n",
              "      <td>2121</td>\n",
              "      <td>4.64</td>\n",
              "    </tr>\n",
              "    <tr>\n",
              "      <th>Se planificó intervención para otro momento</th>\n",
              "      <td>926</td>\n",
              "      <td>2.03</td>\n",
              "    </tr>\n",
              "    <tr>\n",
              "      <th>Está interviniendo o se deriva a otra institución</th>\n",
              "      <td>779</td>\n",
              "      <td>1.70</td>\n",
              "    </tr>\n",
              "    <tr>\n",
              "      <th>Otras</th>\n",
              "      <td>62</td>\n",
              "      <td>0.14</td>\n",
              "    </tr>\n",
              "  </tbody>\n",
              "</table>\n",
              "</div>\n",
              "      <button class=\"colab-df-convert\" onclick=\"convertToInteractive('df-ae48c0c7-099d-458e-9be5-dc76cefc9d71')\"\n",
              "              title=\"Convert this dataframe to an interactive table.\"\n",
              "              style=\"display:none;\">\n",
              "        \n",
              "  <svg xmlns=\"http://www.w3.org/2000/svg\" height=\"24px\"viewBox=\"0 0 24 24\"\n",
              "       width=\"24px\">\n",
              "    <path d=\"M0 0h24v24H0V0z\" fill=\"none\"/>\n",
              "    <path d=\"M18.56 5.44l.94 2.06.94-2.06 2.06-.94-2.06-.94-.94-2.06-.94 2.06-2.06.94zm-11 1L8.5 8.5l.94-2.06 2.06-.94-2.06-.94L8.5 2.5l-.94 2.06-2.06.94zm10 10l.94 2.06.94-2.06 2.06-.94-2.06-.94-.94-2.06-.94 2.06-2.06.94z\"/><path d=\"M17.41 7.96l-1.37-1.37c-.4-.4-.92-.59-1.43-.59-.52 0-1.04.2-1.43.59L10.3 9.45l-7.72 7.72c-.78.78-.78 2.05 0 2.83L4 21.41c.39.39.9.59 1.41.59.51 0 1.02-.2 1.41-.59l7.78-7.78 2.81-2.81c.8-.78.8-2.07 0-2.86zM5.41 20L4 18.59l7.72-7.72 1.47 1.35L5.41 20z\"/>\n",
              "  </svg>\n",
              "      </button>\n",
              "      \n",
              "  <style>\n",
              "    .colab-df-container {\n",
              "      display:flex;\n",
              "      flex-wrap:wrap;\n",
              "      gap: 12px;\n",
              "    }\n",
              "\n",
              "    .colab-df-convert {\n",
              "      background-color: #E8F0FE;\n",
              "      border: none;\n",
              "      border-radius: 50%;\n",
              "      cursor: pointer;\n",
              "      display: none;\n",
              "      fill: #1967D2;\n",
              "      height: 32px;\n",
              "      padding: 0 0 0 0;\n",
              "      width: 32px;\n",
              "    }\n",
              "\n",
              "    .colab-df-convert:hover {\n",
              "      background-color: #E2EBFA;\n",
              "      box-shadow: 0px 1px 2px rgba(60, 64, 67, 0.3), 0px 1px 3px 1px rgba(60, 64, 67, 0.15);\n",
              "      fill: #174EA6;\n",
              "    }\n",
              "\n",
              "    [theme=dark] .colab-df-convert {\n",
              "      background-color: #3B4455;\n",
              "      fill: #D2E3FC;\n",
              "    }\n",
              "\n",
              "    [theme=dark] .colab-df-convert:hover {\n",
              "      background-color: #434B5C;\n",
              "      box-shadow: 0px 1px 3px 1px rgba(0, 0, 0, 0.15);\n",
              "      filter: drop-shadow(0px 1px 2px rgba(0, 0, 0, 0.3));\n",
              "      fill: #FFFFFF;\n",
              "    }\n",
              "  </style>\n",
              "\n",
              "      <script>\n",
              "        const buttonEl =\n",
              "          document.querySelector('#df-ae48c0c7-099d-458e-9be5-dc76cefc9d71 button.colab-df-convert');\n",
              "        buttonEl.style.display =\n",
              "          google.colab.kernel.accessAllowed ? 'block' : 'none';\n",
              "\n",
              "        async function convertToInteractive(key) {\n",
              "          const element = document.querySelector('#df-ae48c0c7-099d-458e-9be5-dc76cefc9d71');\n",
              "          const dataTable =\n",
              "            await google.colab.kernel.invokeFunction('convertToInteractive',\n",
              "                                                     [key], {});\n",
              "          if (!dataTable) return;\n",
              "\n",
              "          const docLinkHtml = 'Like what you see? Visit the ' +\n",
              "            '<a target=\"_blank\" href=https://colab.research.google.com/notebooks/data_table.ipynb>data table notebook</a>'\n",
              "            + ' to learn more about interactive tables.';\n",
              "          element.innerHTML = '';\n",
              "          dataTable['output_type'] = 'display_data';\n",
              "          await google.colab.output.renderOutput(dataTable, element);\n",
              "          const docLink = document.createElement('div');\n",
              "          docLink.innerHTML = docLinkHtml;\n",
              "          element.appendChild(docLink);\n",
              "        }\n",
              "      </script>\n",
              "    </div>\n",
              "  </div>\n",
              "  "
            ]
          },
          "metadata": {},
          "execution_count": 162
        }
      ],
      "source": [
        "ATENDIDOS['llamado_derivacion'] = ATENDIDOS['llamado_derivacion'].replace(['Comunicación con los Equipos Móviles'],['Comunicación con Equipos Móviles'])\n",
        "derivacion = ATENDIDOS['llamado_derivacion'].value_counts()\n",
        "porcentaje_derivacion = round((ATENDIDOS['llamado_derivacion'].value_counts()/ATENDIDOS['llamado_derivacion'].value_counts().sum()) * 100,2)\n",
        "df17 = pd.DataFrame(derivacion)\n",
        "df18 = pd.DataFrame({\"porcentaje_llamado_derivacion\":porcentaje_derivacion})\n",
        "df18[\"porcentaje_genero_agresor\"] = df18[\"porcentaje_genero_agresor\"].astype(str) + '%' \n",
        "pd.concat([df17,df18],axis=1)"
      ]
    },
    {
      "cell_type": "markdown",
      "metadata": {
        "id": "g5IUYWDYtJ91"
      },
      "source": [
        "# Análisis de la correlación entre llamadas de denuncia y días de aislamiento"
      ]
    },
    {
      "cell_type": "markdown",
      "source": [
        "### Cantidad de llamados por día de forma acumulativa"
      ],
      "metadata": {
        "id": "Yc1cxTm0Keti"
      }
    },
    {
      "cell_type": "code",
      "source": [
        "#conteo de llamados\n",
        "#total de llamados por mes\n",
        "count_llamados_mes = ATENDIDOS.groupby([ATENDIDOS['fecha'].dt.year.rename('año'), ATENDIDOS['fecha'].dt.month.rename('mes')]).agg({'count'})[\"caso_id\"]\n",
        "#total de llamados por día\n",
        "count_llamados_dia = ATENDIDOS['fecha'].groupby(ATENDIDOS['fecha'].dt.floor('d')).size().reset_index(name='llamados')\n",
        "#count_llamados_mes\n",
        "count_llamados_dia[\"llamados\"] = count_llamados_dia[\"llamados\"].cumsum(axis=0, skipna=True)\n",
        "print(count_llamados_dia.head(n=20))"
      ],
      "metadata": {
        "colab": {
          "base_uri": "https://localhost:8080/"
        },
        "id": "3KRwdwx5KZ2l",
        "outputId": "bf1b2217-9f62-411e-cfa7-d6a460807e4f"
      },
      "execution_count": null,
      "outputs": [
        {
          "output_type": "stream",
          "name": "stdout",
          "text": [
            "        fecha  llamados\n",
            "0  2017-01-01        35\n",
            "1  2017-01-02        91\n",
            "2  2017-01-03       132\n",
            "3  2017-01-04       176\n",
            "4  2017-01-05       214\n",
            "5  2017-01-06       243\n",
            "6  2017-01-07       291\n",
            "7  2017-01-08       314\n",
            "8  2017-01-09       369\n",
            "9  2017-01-10       391\n",
            "10 2017-01-11       423\n",
            "11 2017-01-12       476\n",
            "12 2017-01-13       516\n",
            "13 2017-01-14       545\n",
            "14 2017-01-15       577\n",
            "15 2017-01-16       622\n",
            "16 2017-01-17       660\n",
            "17 2017-01-18       702\n",
            "18 2017-01-19       744\n",
            "19 2017-01-20       777\n"
          ]
        }
      ]
    },
    {
      "cell_type": "markdown",
      "source": [
        "### Acotamos los datos para usar solamente la información en los días de aislamiento"
      ],
      "metadata": {
        "id": "shZK1GA5J2zG"
      }
    },
    {
      "cell_type": "code",
      "execution_count": null,
      "metadata": {
        "id": "B7qxH4-gyD5X"
      },
      "outputs": [],
      "source": [
        "tmp = count_llamados_dia.set_index(\"fecha\")\n",
        "a = tmp['2020-01-01':'2022-01-01']\n",
        "a.reset_index(inplace=True)"
      ]
    },
    {
      "cell_type": "markdown",
      "source": [
        "### Cantidad de días de cuarentena de forma acumulativa"
      ],
      "metadata": {
        "id": "XDlSIHxZKtNx"
      }
    },
    {
      "cell_type": "code",
      "source": [
        "b = pd.DataFrame({\"dias_cuarentena\" : range(1,len(a) + 1)})"
      ],
      "metadata": {
        "id": "oas4CMc-KyyF"
      },
      "execution_count": null,
      "outputs": []
    },
    {
      "cell_type": "markdown",
      "source": [
        "### Unimos los dos dataframes para calcular la correlación "
      ],
      "metadata": {
        "id": "Nr9I7-KDK49F"
      }
    },
    {
      "cell_type": "code",
      "source": [
        "corr = a.join(b)\n",
        "corr"
      ],
      "metadata": {
        "colab": {
          "base_uri": "https://localhost:8080/",
          "height": 424
        },
        "id": "l-QnIZzZLAQ6",
        "outputId": "70713ab5-60d3-49ae-b2a6-d8d4288c9137"
      },
      "execution_count": null,
      "outputs": [
        {
          "output_type": "execute_result",
          "data": {
            "text/plain": [
              "         fecha  llamados  dias_cuarentena\n",
              "0   2020-01-01     25773                1\n",
              "1   2020-01-02     25793                2\n",
              "2   2020-01-03     25811                3\n",
              "3   2020-01-04     25820                4\n",
              "4   2020-01-05     25839                5\n",
              "..         ...       ...              ...\n",
              "727 2021-12-28     44146              728\n",
              "728 2021-12-29     44183              729\n",
              "729 2021-12-30     44208              730\n",
              "730 2021-12-31     44215              731\n",
              "731 2022-01-01     44228              732\n",
              "\n",
              "[732 rows x 3 columns]"
            ],
            "text/html": [
              "\n",
              "  <div id=\"df-1267215e-b0fe-4865-abce-e4942b9f090d\">\n",
              "    <div class=\"colab-df-container\">\n",
              "      <div>\n",
              "<style scoped>\n",
              "    .dataframe tbody tr th:only-of-type {\n",
              "        vertical-align: middle;\n",
              "    }\n",
              "\n",
              "    .dataframe tbody tr th {\n",
              "        vertical-align: top;\n",
              "    }\n",
              "\n",
              "    .dataframe thead th {\n",
              "        text-align: right;\n",
              "    }\n",
              "</style>\n",
              "<table border=\"1\" class=\"dataframe\">\n",
              "  <thead>\n",
              "    <tr style=\"text-align: right;\">\n",
              "      <th></th>\n",
              "      <th>fecha</th>\n",
              "      <th>llamados</th>\n",
              "      <th>dias_cuarentena</th>\n",
              "    </tr>\n",
              "  </thead>\n",
              "  <tbody>\n",
              "    <tr>\n",
              "      <th>0</th>\n",
              "      <td>2020-01-01</td>\n",
              "      <td>25773</td>\n",
              "      <td>1</td>\n",
              "    </tr>\n",
              "    <tr>\n",
              "      <th>1</th>\n",
              "      <td>2020-01-02</td>\n",
              "      <td>25793</td>\n",
              "      <td>2</td>\n",
              "    </tr>\n",
              "    <tr>\n",
              "      <th>2</th>\n",
              "      <td>2020-01-03</td>\n",
              "      <td>25811</td>\n",
              "      <td>3</td>\n",
              "    </tr>\n",
              "    <tr>\n",
              "      <th>3</th>\n",
              "      <td>2020-01-04</td>\n",
              "      <td>25820</td>\n",
              "      <td>4</td>\n",
              "    </tr>\n",
              "    <tr>\n",
              "      <th>4</th>\n",
              "      <td>2020-01-05</td>\n",
              "      <td>25839</td>\n",
              "      <td>5</td>\n",
              "    </tr>\n",
              "    <tr>\n",
              "      <th>...</th>\n",
              "      <td>...</td>\n",
              "      <td>...</td>\n",
              "      <td>...</td>\n",
              "    </tr>\n",
              "    <tr>\n",
              "      <th>727</th>\n",
              "      <td>2021-12-28</td>\n",
              "      <td>44146</td>\n",
              "      <td>728</td>\n",
              "    </tr>\n",
              "    <tr>\n",
              "      <th>728</th>\n",
              "      <td>2021-12-29</td>\n",
              "      <td>44183</td>\n",
              "      <td>729</td>\n",
              "    </tr>\n",
              "    <tr>\n",
              "      <th>729</th>\n",
              "      <td>2021-12-30</td>\n",
              "      <td>44208</td>\n",
              "      <td>730</td>\n",
              "    </tr>\n",
              "    <tr>\n",
              "      <th>730</th>\n",
              "      <td>2021-12-31</td>\n",
              "      <td>44215</td>\n",
              "      <td>731</td>\n",
              "    </tr>\n",
              "    <tr>\n",
              "      <th>731</th>\n",
              "      <td>2022-01-01</td>\n",
              "      <td>44228</td>\n",
              "      <td>732</td>\n",
              "    </tr>\n",
              "  </tbody>\n",
              "</table>\n",
              "<p>732 rows × 3 columns</p>\n",
              "</div>\n",
              "      <button class=\"colab-df-convert\" onclick=\"convertToInteractive('df-1267215e-b0fe-4865-abce-e4942b9f090d')\"\n",
              "              title=\"Convert this dataframe to an interactive table.\"\n",
              "              style=\"display:none;\">\n",
              "        \n",
              "  <svg xmlns=\"http://www.w3.org/2000/svg\" height=\"24px\"viewBox=\"0 0 24 24\"\n",
              "       width=\"24px\">\n",
              "    <path d=\"M0 0h24v24H0V0z\" fill=\"none\"/>\n",
              "    <path d=\"M18.56 5.44l.94 2.06.94-2.06 2.06-.94-2.06-.94-.94-2.06-.94 2.06-2.06.94zm-11 1L8.5 8.5l.94-2.06 2.06-.94-2.06-.94L8.5 2.5l-.94 2.06-2.06.94zm10 10l.94 2.06.94-2.06 2.06-.94-2.06-.94-.94-2.06-.94 2.06-2.06.94z\"/><path d=\"M17.41 7.96l-1.37-1.37c-.4-.4-.92-.59-1.43-.59-.52 0-1.04.2-1.43.59L10.3 9.45l-7.72 7.72c-.78.78-.78 2.05 0 2.83L4 21.41c.39.39.9.59 1.41.59.51 0 1.02-.2 1.41-.59l7.78-7.78 2.81-2.81c.8-.78.8-2.07 0-2.86zM5.41 20L4 18.59l7.72-7.72 1.47 1.35L5.41 20z\"/>\n",
              "  </svg>\n",
              "      </button>\n",
              "      \n",
              "  <style>\n",
              "    .colab-df-container {\n",
              "      display:flex;\n",
              "      flex-wrap:wrap;\n",
              "      gap: 12px;\n",
              "    }\n",
              "\n",
              "    .colab-df-convert {\n",
              "      background-color: #E8F0FE;\n",
              "      border: none;\n",
              "      border-radius: 50%;\n",
              "      cursor: pointer;\n",
              "      display: none;\n",
              "      fill: #1967D2;\n",
              "      height: 32px;\n",
              "      padding: 0 0 0 0;\n",
              "      width: 32px;\n",
              "    }\n",
              "\n",
              "    .colab-df-convert:hover {\n",
              "      background-color: #E2EBFA;\n",
              "      box-shadow: 0px 1px 2px rgba(60, 64, 67, 0.3), 0px 1px 3px 1px rgba(60, 64, 67, 0.15);\n",
              "      fill: #174EA6;\n",
              "    }\n",
              "\n",
              "    [theme=dark] .colab-df-convert {\n",
              "      background-color: #3B4455;\n",
              "      fill: #D2E3FC;\n",
              "    }\n",
              "\n",
              "    [theme=dark] .colab-df-convert:hover {\n",
              "      background-color: #434B5C;\n",
              "      box-shadow: 0px 1px 3px 1px rgba(0, 0, 0, 0.15);\n",
              "      filter: drop-shadow(0px 1px 2px rgba(0, 0, 0, 0.3));\n",
              "      fill: #FFFFFF;\n",
              "    }\n",
              "  </style>\n",
              "\n",
              "      <script>\n",
              "        const buttonEl =\n",
              "          document.querySelector('#df-1267215e-b0fe-4865-abce-e4942b9f090d button.colab-df-convert');\n",
              "        buttonEl.style.display =\n",
              "          google.colab.kernel.accessAllowed ? 'block' : 'none';\n",
              "\n",
              "        async function convertToInteractive(key) {\n",
              "          const element = document.querySelector('#df-1267215e-b0fe-4865-abce-e4942b9f090d');\n",
              "          const dataTable =\n",
              "            await google.colab.kernel.invokeFunction('convertToInteractive',\n",
              "                                                     [key], {});\n",
              "          if (!dataTable) return;\n",
              "\n",
              "          const docLinkHtml = 'Like what you see? Visit the ' +\n",
              "            '<a target=\"_blank\" href=https://colab.research.google.com/notebooks/data_table.ipynb>data table notebook</a>'\n",
              "            + ' to learn more about interactive tables.';\n",
              "          element.innerHTML = '';\n",
              "          dataTable['output_type'] = 'display_data';\n",
              "          await google.colab.output.renderOutput(dataTable, element);\n",
              "          const docLink = document.createElement('div');\n",
              "          docLink.innerHTML = docLinkHtml;\n",
              "          element.appendChild(docLink);\n",
              "        }\n",
              "      </script>\n",
              "    </div>\n",
              "  </div>\n",
              "  "
            ]
          },
          "metadata": {},
          "execution_count": 188
        }
      ]
    },
    {
      "cell_type": "markdown",
      "source": [
        "### Mapa de calor para ilustrar la correlación entre cantidad de llamados y días de aislamiento"
      ],
      "metadata": {
        "id": "hD0QXCbrLHx-"
      }
    },
    {
      "cell_type": "code",
      "execution_count": null,
      "metadata": {
        "id": "UYwn4hTA4pi_",
        "colab": {
          "base_uri": "https://localhost:8080/",
          "height": 287
        },
        "outputId": "1af51d3f-f1d7-44d2-e48c-4352b965a909"
      },
      "outputs": [
        {
          "output_type": "display_data",
          "data": {
            "text/plain": [
              "<Figure size 432x288 with 2 Axes>"
            ],
            "image/png": "[encoded data removed]"
          },
          "metadata": {
            "needs_background": "light"
          }
        },
        {
          "output_type": "display_data",
          "data": {
            "text/plain": [
              "<Figure size 576x576 with 0 Axes>"
            ]
          },
          "metadata": {}
        }
      ],
      "source": [
        "correlacion=corr.corr(method='pearson')\n",
        "sns.heatmap(correlacion, annot=True)\n",
        "plt.show()"
      ]
    },
    {
      "cell_type": "markdown",
      "source": [
        "### Serie de tiempo para ver el comportamiento de las dos variables según la fecha"
      ],
      "metadata": {
        "id": "gj5MFVTXLUzU"
      }
    },
    {
      "cell_type": "code",
      "execution_count": null,
      "metadata": {
        "id": "ZsaeA8XC6J0M",
        "colab": {
          "base_uri": "https://localhost:8080/",
          "height": 388
        },
        "outputId": "50bca5dd-666f-4985-a506-db95b71b58cd"
      },
      "outputs": [
        {
          "output_type": "display_data",
          "data": {
            "text/plain": [
              "<IPython.core.display.Javascript object>"
            ],
            "application/javascript": [
              "\n",
              "    async function download(id, filename, size) {\n",
              "      if (!google.colab.kernel.accessAllowed) {\n",
              "        return;\n",
              "      }\n",
              "      const div = document.createElement('div');\n",
              "      const label = document.createElement('label');\n",
              "      label.textContent = `Downloading \"${filename}\": `;\n",
              "      div.appendChild(label);\n",
              "      const progress = document.createElement('progress');\n",
              "      progress.max = size;\n",
              "      div.appendChild(progress);\n",
              "      document.body.appendChild(div);\n",
              "\n",
              "      const buffers = [];\n",
              "      let downloaded = 0;\n",
              "\n",
              "      const channel = await google.colab.kernel.comms.open(id);\n",
              "      // Send a message to notify the kernel that we're ready.\n",
              "      channel.send({})\n",
              "\n",
              "      for await (const message of channel.messages) {\n",
              "        // Send a message to notify the kernel that we're ready.\n",
              "        channel.send({})\n",
              "        if (message.buffers) {\n",
              "          for (const buffer of message.buffers) {\n",
              "            buffers.push(buffer);\n",
              "            downloaded += buffer.byteLength;\n",
              "            progress.value = downloaded;\n",
              "          }\n",
              "        }\n",
              "      }\n",
              "      const blob = new Blob(buffers, {type: 'application/binary'});\n",
              "      const a = document.createElement('a');\n",
              "      a.href = window.URL.createObjectURL(blob);\n",
              "      a.download = filename;\n",
              "      div.appendChild(a);\n",
              "      a.click();\n",
              "      div.remove();\n",
              "    }\n",
              "  "
            ]
          },
          "metadata": {}
        },
        {
          "output_type": "display_data",
          "data": {
            "text/plain": [
              "<IPython.core.display.Javascript object>"
            ],
            "application/javascript": [
              "download(\"download_0b22b1cf-bfcd-4c9e-81dc-33dfe3059318\", \"abc.png\", 17492)"
            ]
          },
          "metadata": {}
        },
        {
          "output_type": "display_data",
          "data": {
            "text/plain": [
              "<Figure size 720x432 with 1 Axes>"
            ],
            "image/png": "[encoded data removed]"
          },
          "metadata": {
            "needs_background": "light"
          }
        }
      ],
      "source": [
        "df = corr\n",
        "plt.figure(figsize=(10,6))\n",
        "plt.xlabel(\"Fecha\")\n",
        "plt.ylabel(\"Cantidad acumulativa\")\n",
        "plt.plot(df[\"fecha\"], df[\"llamados\"], \"-b\", label=\"Llamados\")\n",
        "plt.plot(df[\"fecha\"], df[\"dias_cuarentena\"], \"-r\", label=\"Dias de cuarentena\")\n",
        "plt.legend(loc=\"upper left\")\n",
        "from google.colab import files\n",
        "plt.savefig(\"abc.png\")\n",
        "files.download(\"abc.png\") \n"
      ]
    }
  ],
  "metadata": {
    "colab": {
      "collapsed_sections": [],
      "name": "Análisis sobre el aumento de violencia doméstica en tiempos de Covid-19.ipynb",
      "provenance": []
    },
    "kernelspec": {
      "display_name": "Python 3",
      "name": "python3"
    },
    "language_info": {
      "name": "python"
    }
  },
  "nbformat": 4,
  "nbformat_minor": 0
}